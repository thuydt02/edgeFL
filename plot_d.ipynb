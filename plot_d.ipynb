{
 "cells": [
  {
   "cell_type": "code",
   "execution_count": 1,
   "metadata": {},
   "outputs": [],
   "source": [
    "import pandas as pd\n",
    "import matplotlib.pyplot as plt\n",
    "import numpy as np\n",
    "\n",
    "from scipy.stats import zipf\n",
    "from scipy import special "
   ]
  },
  {
   "cell_type": "code",
   "execution_count": 3,
   "metadata": {},
   "outputs": [],
   "source": [
    "d = pd.read_csv(\"./z_ass/d_euclidean_B20_L50_non_iid_zipfz0.7\")"
   ]
  },
  {
   "cell_type": "code",
   "execution_count": 4,
   "metadata": {},
   "outputs": [
    {
     "data": {
      "text/html": [
       "<div>\n",
       "<style scoped>\n",
       "    .dataframe tbody tr th:only-of-type {\n",
       "        vertical-align: middle;\n",
       "    }\n",
       "\n",
       "    .dataframe tbody tr th {\n",
       "        vertical-align: top;\n",
       "    }\n",
       "\n",
       "    .dataframe thead th {\n",
       "        text-align: right;\n",
       "    }\n",
       "</style>\n",
       "<table border=\"1\" class=\"dataframe\">\n",
       "  <thead>\n",
       "    <tr style=\"text-align: right;\">\n",
       "      <th></th>\n",
       "      <th>Unnamed: 0</th>\n",
       "      <th>0</th>\n",
       "      <th>1</th>\n",
       "      <th>2</th>\n",
       "      <th>3</th>\n",
       "      <th>4</th>\n",
       "      <th>5</th>\n",
       "      <th>6</th>\n",
       "      <th>7</th>\n",
       "      <th>8</th>\n",
       "      <th>...</th>\n",
       "      <th>90</th>\n",
       "      <th>91</th>\n",
       "      <th>92</th>\n",
       "      <th>93</th>\n",
       "      <th>94</th>\n",
       "      <th>95</th>\n",
       "      <th>96</th>\n",
       "      <th>97</th>\n",
       "      <th>98</th>\n",
       "      <th>99</th>\n",
       "    </tr>\n",
       "  </thead>\n",
       "  <tbody>\n",
       "    <tr>\n",
       "      <td>count</td>\n",
       "      <td>100.000000</td>\n",
       "      <td>100.000000</td>\n",
       "      <td>100.000000</td>\n",
       "      <td>100.000000</td>\n",
       "      <td>100.000000</td>\n",
       "      <td>100.000000</td>\n",
       "      <td>100.000000</td>\n",
       "      <td>100.000000</td>\n",
       "      <td>100.000000</td>\n",
       "      <td>100.000000</td>\n",
       "      <td>...</td>\n",
       "      <td>100.000000</td>\n",
       "      <td>100.000000</td>\n",
       "      <td>100.000000</td>\n",
       "      <td>100.000000</td>\n",
       "      <td>100.000000</td>\n",
       "      <td>100.000000</td>\n",
       "      <td>100.000000</td>\n",
       "      <td>100.000000</td>\n",
       "      <td>100.000000</td>\n",
       "      <td>100.000000</td>\n",
       "    </tr>\n",
       "    <tr>\n",
       "      <td>mean</td>\n",
       "      <td>49.500000</td>\n",
       "      <td>0.422299</td>\n",
       "      <td>1.244019</td>\n",
       "      <td>0.636178</td>\n",
       "      <td>0.951451</td>\n",
       "      <td>0.739809</td>\n",
       "      <td>1.352840</td>\n",
       "      <td>2.001803</td>\n",
       "      <td>0.336619</td>\n",
       "      <td>0.319686</td>\n",
       "      <td>...</td>\n",
       "      <td>0.455087</td>\n",
       "      <td>0.439671</td>\n",
       "      <td>0.342424</td>\n",
       "      <td>1.107165</td>\n",
       "      <td>0.773492</td>\n",
       "      <td>0.761543</td>\n",
       "      <td>0.629480</td>\n",
       "      <td>0.685858</td>\n",
       "      <td>0.332345</td>\n",
       "      <td>0.737211</td>\n",
       "    </tr>\n",
       "    <tr>\n",
       "      <td>std</td>\n",
       "      <td>29.011492</td>\n",
       "      <td>0.446409</td>\n",
       "      <td>0.352182</td>\n",
       "      <td>0.403357</td>\n",
       "      <td>0.281658</td>\n",
       "      <td>0.313715</td>\n",
       "      <td>0.251109</td>\n",
       "      <td>0.285005</td>\n",
       "      <td>0.459942</td>\n",
       "      <td>0.472125</td>\n",
       "      <td>...</td>\n",
       "      <td>0.407762</td>\n",
       "      <td>0.417918</td>\n",
       "      <td>0.455043</td>\n",
       "      <td>0.282301</td>\n",
       "      <td>0.330570</td>\n",
       "      <td>0.344015</td>\n",
       "      <td>0.354143</td>\n",
       "      <td>0.341056</td>\n",
       "      <td>0.455674</td>\n",
       "      <td>0.354298</td>\n",
       "    </tr>\n",
       "    <tr>\n",
       "      <td>min</td>\n",
       "      <td>0.000000</td>\n",
       "      <td>0.000000</td>\n",
       "      <td>0.000000</td>\n",
       "      <td>0.000000</td>\n",
       "      <td>0.000000</td>\n",
       "      <td>0.000000</td>\n",
       "      <td>0.000000</td>\n",
       "      <td>0.000000</td>\n",
       "      <td>0.000000</td>\n",
       "      <td>0.000000</td>\n",
       "      <td>...</td>\n",
       "      <td>0.000000</td>\n",
       "      <td>0.000000</td>\n",
       "      <td>0.000000</td>\n",
       "      <td>0.000000</td>\n",
       "      <td>0.000000</td>\n",
       "      <td>0.000000</td>\n",
       "      <td>0.000000</td>\n",
       "      <td>0.000000</td>\n",
       "      <td>0.000000</td>\n",
       "      <td>0.000000</td>\n",
       "    </tr>\n",
       "    <tr>\n",
       "      <td>25%</td>\n",
       "      <td>24.750000</td>\n",
       "      <td>0.202552</td>\n",
       "      <td>1.105149</td>\n",
       "      <td>0.444965</td>\n",
       "      <td>0.844678</td>\n",
       "      <td>0.606821</td>\n",
       "      <td>1.290121</td>\n",
       "      <td>1.969182</td>\n",
       "      <td>0.097977</td>\n",
       "      <td>0.069853</td>\n",
       "      <td>...</td>\n",
       "      <td>0.277648</td>\n",
       "      <td>0.240331</td>\n",
       "      <td>0.112829</td>\n",
       "      <td>1.047140</td>\n",
       "      <td>0.672716</td>\n",
       "      <td>0.653199</td>\n",
       "      <td>0.498519</td>\n",
       "      <td>0.566937</td>\n",
       "      <td>0.099062</td>\n",
       "      <td>0.610552</td>\n",
       "    </tr>\n",
       "    <tr>\n",
       "      <td>50%</td>\n",
       "      <td>49.500000</td>\n",
       "      <td>0.229622</td>\n",
       "      <td>1.130208</td>\n",
       "      <td>0.469327</td>\n",
       "      <td>0.863421</td>\n",
       "      <td>0.632478</td>\n",
       "      <td>1.319150</td>\n",
       "      <td>1.998289</td>\n",
       "      <td>0.117989</td>\n",
       "      <td>0.094261</td>\n",
       "      <td>...</td>\n",
       "      <td>0.291503</td>\n",
       "      <td>0.263815</td>\n",
       "      <td>0.132797</td>\n",
       "      <td>1.063376</td>\n",
       "      <td>0.699338</td>\n",
       "      <td>0.676389</td>\n",
       "      <td>0.525442</td>\n",
       "      <td>0.592739</td>\n",
       "      <td>0.114129</td>\n",
       "      <td>0.626226</td>\n",
       "    </tr>\n",
       "    <tr>\n",
       "      <td>75%</td>\n",
       "      <td>74.250000</td>\n",
       "      <td>0.405241</td>\n",
       "      <td>1.190835</td>\n",
       "      <td>0.647993</td>\n",
       "      <td>0.914202</td>\n",
       "      <td>0.675296</td>\n",
       "      <td>1.347527</td>\n",
       "      <td>2.023710</td>\n",
       "      <td>0.420600</td>\n",
       "      <td>0.406615</td>\n",
       "      <td>...</td>\n",
       "      <td>0.425580</td>\n",
       "      <td>0.458343</td>\n",
       "      <td>0.397575</td>\n",
       "      <td>1.096986</td>\n",
       "      <td>0.724588</td>\n",
       "      <td>0.699001</td>\n",
       "      <td>0.549714</td>\n",
       "      <td>0.617094</td>\n",
       "      <td>0.391456</td>\n",
       "      <td>0.656012</td>\n",
       "    </tr>\n",
       "    <tr>\n",
       "      <td>max</td>\n",
       "      <td>99.000000</td>\n",
       "      <td>2.577655</td>\n",
       "      <td>3.125708</td>\n",
       "      <td>2.870511</td>\n",
       "      <td>2.694098</td>\n",
       "      <td>2.446652</td>\n",
       "      <td>2.685528</td>\n",
       "      <td>3.100024</td>\n",
       "      <td>2.560274</td>\n",
       "      <td>2.568153</td>\n",
       "      <td>...</td>\n",
       "      <td>2.321098</td>\n",
       "      <td>2.423969</td>\n",
       "      <td>2.482499</td>\n",
       "      <td>2.244749</td>\n",
       "      <td>2.070129</td>\n",
       "      <td>2.215495</td>\n",
       "      <td>2.084271</td>\n",
       "      <td>2.078617</td>\n",
       "      <td>2.538345</td>\n",
       "      <td>2.265486</td>\n",
       "    </tr>\n",
       "  </tbody>\n",
       "</table>\n",
       "<p>8 rows × 101 columns</p>\n",
       "</div>"
      ],
      "text/plain": [
       "       Unnamed: 0           0           1           2           3           4  \\\n",
       "count  100.000000  100.000000  100.000000  100.000000  100.000000  100.000000   \n",
       "mean    49.500000    0.422299    1.244019    0.636178    0.951451    0.739809   \n",
       "std     29.011492    0.446409    0.352182    0.403357    0.281658    0.313715   \n",
       "min      0.000000    0.000000    0.000000    0.000000    0.000000    0.000000   \n",
       "25%     24.750000    0.202552    1.105149    0.444965    0.844678    0.606821   \n",
       "50%     49.500000    0.229622    1.130208    0.469327    0.863421    0.632478   \n",
       "75%     74.250000    0.405241    1.190835    0.647993    0.914202    0.675296   \n",
       "max     99.000000    2.577655    3.125708    2.870511    2.694098    2.446652   \n",
       "\n",
       "                5           6           7           8  ...          90  \\\n",
       "count  100.000000  100.000000  100.000000  100.000000  ...  100.000000   \n",
       "mean     1.352840    2.001803    0.336619    0.319686  ...    0.455087   \n",
       "std      0.251109    0.285005    0.459942    0.472125  ...    0.407762   \n",
       "min      0.000000    0.000000    0.000000    0.000000  ...    0.000000   \n",
       "25%      1.290121    1.969182    0.097977    0.069853  ...    0.277648   \n",
       "50%      1.319150    1.998289    0.117989    0.094261  ...    0.291503   \n",
       "75%      1.347527    2.023710    0.420600    0.406615  ...    0.425580   \n",
       "max      2.685528    3.100024    2.560274    2.568153  ...    2.321098   \n",
       "\n",
       "               91          92          93          94          95          96  \\\n",
       "count  100.000000  100.000000  100.000000  100.000000  100.000000  100.000000   \n",
       "mean     0.439671    0.342424    1.107165    0.773492    0.761543    0.629480   \n",
       "std      0.417918    0.455043    0.282301    0.330570    0.344015    0.354143   \n",
       "min      0.000000    0.000000    0.000000    0.000000    0.000000    0.000000   \n",
       "25%      0.240331    0.112829    1.047140    0.672716    0.653199    0.498519   \n",
       "50%      0.263815    0.132797    1.063376    0.699338    0.676389    0.525442   \n",
       "75%      0.458343    0.397575    1.096986    0.724588    0.699001    0.549714   \n",
       "max      2.423969    2.482499    2.244749    2.070129    2.215495    2.084271   \n",
       "\n",
       "               97          98          99  \n",
       "count  100.000000  100.000000  100.000000  \n",
       "mean     0.685858    0.332345    0.737211  \n",
       "std      0.341056    0.455674    0.354298  \n",
       "min      0.000000    0.000000    0.000000  \n",
       "25%      0.566937    0.099062    0.610552  \n",
       "50%      0.592739    0.114129    0.626226  \n",
       "75%      0.617094    0.391456    0.656012  \n",
       "max      2.078617    2.538345    2.265486  \n",
       "\n",
       "[8 rows x 101 columns]"
      ]
     },
     "execution_count": 4,
     "metadata": {},
     "output_type": "execute_result"
    }
   ],
   "source": [
    "d.describe()"
   ]
  },
  {
   "cell_type": "code",
   "execution_count": 58,
   "metadata": {},
   "outputs": [],
   "source": [
    "z_rnd_acc = pd.read_csv(\"./EFL/z_rnd.csv.acc 2.csv\")\n",
    "z_metis_acc = pd.read_csv(\"./EFL/graph_weight_euclidean_diff.txt.part.10.acc.csv\")"
   ]
  },
  {
   "cell_type": "code",
   "execution_count": 73,
   "metadata": {},
   "outputs": [
    {
     "data": {
      "image/png": "[encoded data removed]",
      "text/plain": [
       "<Figure size 720x360 with 1 Axes>"
      ]
     },
     "metadata": {
      "needs_background": "light"
     },
     "output_type": "display_data"
    }
   ],
   "source": [
    "fig = plt.figure(figsize=(10,5))\n",
    "ax = fig.add_subplot(111)\n",
    "plt.plot(range(z_rnd_acc.shape[0]), z_rnd_acc['acc'], linewidth = 2, color = 'blue', label = \"z_rnd\")\n",
    "plt.plot(range(z_rnd_acc.shape[0]), z_metis_acc['acc'], linewidth = 2, color = 'red', label = \"z_metis\")\n",
    "#plt.xtitle('Number of communication rounds at cloud server', fontsize=18)\n",
    "#plt.ytitle('Test accuracy', fontsize=16)\n",
    "#plt.legend(loc = 'best')\n",
    "\n",
    "ax.set_xlabel('Number of communication rounds at cloud server')\n",
    "ax.set_ylabel('Test accuracy')\n",
    "ax.legend(loc='best')\n",
    "plt.show()"
   ]
  },
  {
   "cell_type": "code",
   "execution_count": 3,
   "metadata": {},
   "outputs": [],
   "source": [
    "a = d['0'].tolist()"
   ]
  },
  {
   "cell_type": "code",
   "execution_count": 4,
   "metadata": {},
   "outputs": [],
   "source": [
    "a = []\n",
    "for i in range(100):\n",
    "    a = a + d[str(i)].tolist()"
   ]
  },
  {
   "cell_type": "code",
   "execution_count": 5,
   "metadata": {},
   "outputs": [
    {
     "data": {
      "image/png": "[encoded data removed]",
      "text/plain": [
       "<Figure size 1440x720 with 1 Axes>"
      ]
     },
     "metadata": {
      "needs_background": "light"
     },
     "output_type": "display_data"
    }
   ],
   "source": [
    "plt.figure(figsize=(20,10))\n",
    "plt.scatter(range(100), a[0:100], s = 50)\n",
    "plt.show()"
   ]
  },
  {
   "cell_type": "code",
   "execution_count": 6,
   "metadata": {},
   "outputs": [
    {
     "data": {
      "image/png": "[encoded data removed]",
      "text/plain": [
       "<Figure size 1440x720 with 1 Axes>"
      ]
     },
     "metadata": {
      "needs_background": "light"
     },
     "output_type": "display_data"
    }
   ],
   "source": [
    "plt.figure(figsize=(20,10))\n",
    "plt.scatter(range(10), a[0:10], s = 50, color = 'red', label = 'client1')\n",
    "plt.scatter(range(10), a[100:110], s = 50, color = 'green', label = 'client2')\n",
    "\n",
    "plt.scatter(range(10), a[10*100:10*100+100-90], s = 50, color = 'blue', label = 'client10')\n",
    "plt.legend(loc='best')\n",
    "plt.show()"
   ]
  },
  {
   "cell_type": "code",
   "execution_count": 12,
   "metadata": {},
   "outputs": [
    {
     "data": {
      "image/png": "[encoded data removed]",
      "text/plain": [
       "<Figure size 1440x720 with 1 Axes>"
      ]
     },
     "metadata": {
      "needs_background": "light"
     },
     "output_type": "display_data"
    }
   ],
   "source": [
    "plt.figure(figsize=(20,10))\n",
    "plt.scatter(range(10), a[0:10], s = 50, color = 'red', label = 'client1 vs client1-10')\n",
    "plt.scatter(range(10), a[100 * (100 - 1):100 * (100 - 1) + 10], s = 50, color = 'blue', label = 'client100 vs client 1-10')\n",
    "plt.legend(loc='best')\n",
    "plt.show()"
   ]
  },
  {
   "cell_type": "code",
   "execution_count": 13,
   "metadata": {},
   "outputs": [],
   "source": [
    "a = []\n",
    "for i in range(100):\n",
    "    a.append(d[str(i)].tolist())\n",
    "    \n",
    "dp = []\n",
    "for i in range(100):\n",
    "    for j in range(i + 1, 100):\n",
    "        dp = dp + [a[i][j]]\n",
    "    "
   ]
  },
  {
   "cell_type": "code",
   "execution_count": 14,
   "metadata": {},
   "outputs": [
    {
     "data": {
      "image/png": "[encoded data removed]",
      "text/plain": [
       "<Figure size 1440x720 with 1 Axes>"
      ]
     },
     "metadata": {
      "needs_background": "light"
     },
     "output_type": "display_data"
    }
   ],
   "source": [
    "plt.figure(figsize=(20,10))\n",
    "#plt.scatter(range(10), a[0:10], s = 50, color = 'red', label = 'client1 vs client1-10')\n",
    "dp.sort()\n",
    "plt.scatter(range(len(dp)), dp, s = 20, color = 'blue')\n",
    "#plt.legend(loc='best')\n",
    "plt.show()"
   ]
  },
  {
   "cell_type": "code",
   "execution_count": 10,
   "metadata": {},
   "outputs": [
    {
     "data": {
      "image/png": "[encoded data removed]",
      "text/plain": [
       "<Figure size 1440x720 with 1 Axes>"
      ]
     },
     "metadata": {
      "needs_background": "light"
     },
     "output_type": "display_data"
    }
   ],
   "source": [
    "wd = 300*np.load(\"./z_ass/weight_diff.npy\")\n",
    "plt.figure(figsize=(20,10))\n",
    "\n",
    "\n",
    "#plt.figure(figsize=(20,10))\n",
    "plt.scatter(range(10), a[0:10], s = 50, color = 'yellow', label = 'client11')\n",
    "plt.scatter(range(10), a[100:110], s = 50, color = 'cyan', label = 'client22')\n",
    "\n",
    "plt.scatter(range(10), a[10*100:10*100+100-90], s = 50, color = 'black', label = 'client1010')\n",
    "#plt.legend(loc='best')\n",
    "#plt.show()\n",
    "\n",
    "plt.scatter(range(10), wd[0][0:10], s = 50, color = 'red', label = 'client1')\n",
    "plt.scatter(range(10), wd[1][0:10], s = 50, color = 'green', label = 'client2')\n",
    "\n",
    "plt.scatter(range(10), wd[10][0:10], s = 50, color = 'blue', label = 'client10')\n",
    "plt.legend(loc='best')\n",
    "plt.show()"
   ]
  },
  {
   "cell_type": "code",
   "execution_count": 14,
   "metadata": {},
   "outputs": [
    {
     "data": {
      "image/png": "[encoded data removed]",
      "text/plain": [
       "<Figure size 432x288 with 1 Axes>"
      ]
     },
     "metadata": {
      "needs_background": "light"
     },
     "output_type": "display_data"
    }
   ],
   "source": [
    "fig, ax = plt.subplots(1, 1)\n",
    "y = zipf.rvs(2, size=1000)\n",
    "plt.plot(range(1000), y)\n",
    "plt.show()"
   ]
  },
  {
   "cell_type": "code",
   "execution_count": 36,
   "metadata": {},
   "outputs": [
    {
     "name": "stdout",
     "output_type": "stream",
     "text": [
      "[                  1            15396012         28042465223\n",
      "           331453048                9748                 388\n",
      "           524789832   72741135184326416       5851573661900\n",
      "          1472476968     274762604551572                 193\n",
      "                   8                   1                   1\n",
      "                   1            69929675             5702657\n",
      "                   1     170798585773775      29409546527856\n",
      "     554364793318515       4450121189007         24250186535\n",
      "                1612          7190294235              426885\n",
      "                1494       1802314227939                  36\n",
      "   27531164414329196             3701705          1554938686\n",
      "           739856653           187993571                   1\n",
      "        261380546923            59974544                1475\n",
      "      10455844777810                   2              511454\n",
      "                 731                 195    3123284166216706\n",
      "           106382798         50098944095                   5\n",
      "                8641                7225               29267\n",
      "                2325                   4                1593\n",
      "                 565  274913273495348480 1150795890024109312\n",
      "                  26                   2            23021569\n",
      "              135150           213193821              623184\n",
      "                  92         22068096582                2592\n",
      "                  10               49204             7051291\n",
      "               17627              906792                   2\n",
      "     144720968416151                   3              221543\n",
      "               55469                 121                   2\n",
      "                  28              629587                6274\n",
      "         13547574617                  18    6004394577354376\n",
      "           865105049                  16                 143\n",
      "                2501            10041391 4763711457733564416\n",
      "       6246577734669                3593                 947\n",
      "                  16           136776324    3125743095314125\n",
      "           220034365         91477845018       2694723726521\n",
      "    5476897589906097                 769                  10\n",
      "                1535                 109             1500000\n",
      "               45033 2181823558884374528                2034\n",
      "                  42    2447031972105165                   5\n",
      " 1444554312466202880                 385                 254\n",
      "               55075                  73             9887343\n",
      "                   3       3125847643303           435720309\n",
      "                9830                   1               59011\n",
      "                4744                  28                3491\n",
      "            66162325        374792300256            17054032\n",
      "          1118648728                  93           173978525\n",
      "         15826959490              827479              199956\n",
      "                  12   44066917484956232                   1\n",
      "           301043623               10004           166179605\n",
      "             1659050              879297                7550\n",
      "                 198                  35             2432517\n",
      "   32658018468877944                 205                 585\n",
      "             3053205              280384            25554950\n",
      "               11699                   1                 109\n",
      "            15515174    2643256286820632                4467\n",
      "               90825         21717027146             5890075\n",
      "                 149                  29          1590307299\n",
      "    3643389102564596                1753                1071\n",
      "    1144974688513243              103910               57822\n",
      "                   9  228347141544265216             4635451\n",
      "       1809534249622             1812550                1699\n",
      "                   1                 127                   6\n",
      "          3742761474                   1          4038030639\n",
      "               45752        103457369822                6491\n",
      "                  16               27972                 594\n",
      "            57733512      14823706045894               63437\n",
      "              596574     221111993768138         11447255550\n",
      "  596315717554432640             8784756                   2\n",
      "    5717981806917191   21674956674393968                  70\n",
      "                 123                  62                6095\n",
      "                 680           384538794             1722932\n",
      "                   3                   1              648909\n",
      "     607452181075667                  21              185773\n",
      "                 562               49539              226197\n",
      "                1112             3921909                5232\n",
      "                   2                 363                   4\n",
      "    7492205819910981  113466239030740496              136666\n",
      "                 424           212488806    7341612209509607\n",
      "                  52       3847773641142            52550033\n",
      " 2515763010892610560                   9     267528013961500\n",
      "                  65                1391         68878619111\n",
      "           751496608        811530398856   68628915572393448\n",
      "                5637                 850          1125477049\n",
      "      11747473427472                 427                   3\n",
      "               11986      17774559437778          9528899035\n",
      "             3695139        952154857085            57528778\n",
      "                   3                   3                 179\n",
      "    6372213791597069                   5    1118615969967836\n",
      "             4551351           117832073               17739\n",
      "            45257685                  62      53043509365554\n",
      "              501007               34541                 401\n",
      "           182007292                1877              297365\n",
      "                   3                 467            65646915\n",
      "                 683            15249403                4616\n",
      "                 224       4196287746258              310483\n",
      "               46405           439348520        457496127960\n",
      "                1415                   4          7025621394\n",
      "                  89                2877                  37\n",
      "        334311129540   41436060728487640              562316\n",
      "              202264                  90 7215070559094239232\n",
      "          5296456393       1001325878850         67904257626\n",
      "                 880      43219473015599              478863\n",
      "                1199                 347                   5\n",
      "                1268             1911322                 570\n",
      "    1079348943766308          1036823898                   1\n",
      "          6321332856              278839            29388812\n",
      "                   7                   7             2744477\n",
      "            69072384             1140844        604541009000\n",
      "         11491480745        180144754600        348584885492\n",
      "                4160           431478799            22454529\n",
      "           164352260                  35              408437\n",
      "            18927221                   1        158243056634\n",
      "                   1            48103572       6718766797424\n",
      "   35386167874848640              891950               92217\n",
      "                 120                  10                7672\n",
      "              102959                5121             1391046\n",
      "                 218                   5         64416626220\n",
      "                  26                   1      68694320620394\n",
      "               29800                4700       1655380486818\n",
      "            17305317                   2            57952825\n",
      "  210089347277004832         36580032316               13546\n",
      "                   5        105401355128  400117614853911424\n",
      "             1066941             3037887           277377499\n",
      "                   1   38184324321737152           482833655\n",
      "   13332384743754544                1862            41979315\n",
      "                   5         32895740411        353894432302\n",
      "        866538427171                   1                 292\n",
      "    2745049701081071           849535152               19150\n",
      "          3962966310                   1               74616\n",
      "                1320   68767612727523488                 144\n",
      "                 447  561868603821145984                 112\n",
      "            19556560                  86                   5\n",
      "                 306             1020398      10817997704586\n",
      "                6287                8292                  49\n",
      "              113039               26976              233738\n",
      "                   8                   1                   8\n",
      "             1020974                  92            17391363\n",
      "                 257                  76           225792618\n",
      "        352628638305                 366                2044\n",
      "                  83                 570               36957\n",
      "                6644             6585638              120928\n",
      "                   4            40059213              282085\n",
      "                 889              549143       8241163116698\n",
      "              119196  513903173466627456                  14\n",
      "               23569                  12     457399200594669\n",
      "             1183035                  12            59003522\n",
      "    5351116661283632             9472460               23738\n",
      "                   5                 377              336692\n",
      "                  14     545604463273139    3844348847922074\n",
      "            18265935               14836                 303\n",
      "                8940    2094726867420676  109295823968691024\n",
      "                4106             5004240                  38\n",
      "       3015048204398                   8 5106656327443196928\n",
      "         25713547533                   6                 344\n",
      "                1991                  79                5804\n",
      "                  54     334577741590186        836302724153\n",
      "                4051            11943623                 231\n",
      "           388674983             5687987                 616\n",
      "     573744186303028                1040                  54\n",
      "           215200073                 329                 288\n",
      "    1628846511373446               26249                7820\n",
      "                 107            14202923                 331\n",
      "              109004                   5                  15\n",
      "                   1               11018                 172\n",
      "                  14      28321854672962                 181\n",
      "           267883512           114676606               46983\n",
      "                  38           191985293                   1\n",
      "                2371            24317871      10655094062933\n",
      "       1097967113939                 610                 427\n",
      "                 332            21496184                2317\n",
      " 4581065261999988224 2956554857098169344       4476286117327\n",
      "                1891            35199206                   5\n",
      "                7735            20005307                   1\n",
      "              112374      13678057558245                6664\n",
      "                   2                 106               11724\n",
      "                 125                  23              349541\n",
      "            26438098               60873        206595362452\n",
      "           140611991                   4              166295\n",
      "                2317               64512                   8\n",
      "                   1                   3                   1\n",
      "                   2         20263688891  412706405618713856\n",
      "                   1                2414                  35\n",
      "                   7                2484           327209702\n",
      "              838870                  12                4993\n",
      "                   1                   2                3274\n",
      "    5372822342445075               93840                3958\n",
      "                   9                   1     535150315538739\n",
      "              804815 1159891717821277440            74082583\n",
      "               79388              147766                3079\n",
      "                   5   42555975750057312          9445297163\n",
      "  394958493513938880               32555                  14\n",
      "    6847941733725762                   1                  97\n",
      "    1070533153954663                1961                  41\n",
      " 1121963458467512320                   1                3198\n",
      "             9236817                3068                 500\n",
      "              165198         15573739509              376236\n",
      "                  22          2840662023            21053257\n",
      "                6854    1320424373953516                3325\n",
      "   13195978180283748               17356            31498961\n",
      "                  43                 244             3079081\n",
      "  166771291154514400                  31    1304297343453932\n",
      "              149585     619008512658494     154618843677138\n",
      "                  21                   3          1629082453\n",
      "                  11 7197466407556045824               21863\n",
      "                  18             1351673             2016654\n",
      "   75215387471304336              203229            50964215\n",
      "                   1 1067604707376475648              134410\n",
      "                   4          1167671741              178952\n",
      "                 259    1335093727927934   59515950970139720\n",
      "     334988538546302                4064                  78\n",
      "         94926928625         73557239262               54377\n",
      "                1969                4555            55615304\n",
      "                2482                   1                   1\n",
      "                 123            21196576        127096762896\n",
      "             5366907             2616594                1193\n",
      "                  11               32201                  19\n",
      "                  17               53511           349150917\n",
      "                5848                   2         11235123802\n",
      "                   6      90590115360458                  38\n",
      "    1090718699687835                   9             1105567\n",
      "                 295             9939366      49740797516466\n",
      "              857737                   3             7829721\n",
      "             3804419           365407708 1925378846365114880\n",
      "                  82             3744250                   7\n",
      "         35867515711                  22              213192\n",
      "    9736988132043410              414391                 147\n",
      "                2661                   1         65983565291\n",
      "                1310                5341             4365918\n",
      "                7290     287893908013126               17905\n",
      "         95723540520                   6      22424762678502\n",
      "                  50    6981687563835153            62428913\n",
      "  636888380891124480                  18                   1\n",
      "             1024534               23366                  22\n",
      "           609793009                   3            18113481\n",
      "             7428242         59805152266    4440411351387543\n",
      "                 796                1503                   1\n",
      "                   1 2536660036875357184                   1\n",
      "              528285       1192748621648          1876803649\n",
      "                   3           182545098            20959716\n",
      "      51869702616974         36499493483        248830153912\n",
      "           104911539              264853                  33\n",
      "                   2              174548           466748300\n",
      "                 464           677221396      80306416238289\n",
      "                 349                2732    5912570445419562\n",
      "               80087                8058           161840290\n",
      "                   7        229426570129                   3\n",
      "   42931163821286576               58066              131606\n",
      "                1647                   1                   2\n",
      "               12358  185264291852572608  254316425550387488\n",
      "              430436             3389746        293857370724\n",
      "  171808395712534432                 475              363479\n",
      "                   8              142320                2101\n",
      "              675938         10469309160                   3\n",
      "               11011           326029746                   1\n",
      "                   8                 869         23527274092\n",
      "             1510474                  97                4021\n",
      "                6206        126848916296       7984331979401\n",
      "           543996597                  23    1775792600094713\n",
      "                 230         11662884608                4634\n",
      "               16294                 444    4963336028268112\n",
      "          1490220249       7877401495285                  22\n",
      "                1819               42676            17152655\n",
      "  252277921087189280                 228                  62\n",
      "                3595            28493999             6132210\n",
      "           542668113                  27                   1\n",
      "         11076720817   10670448730342648                5286\n",
      "              190383              133952                5489\n",
      "             6279172                 182          1466707974\n",
      "                1046                  15  711128381201085312\n",
      "              377835      64452002821805           823468267\n",
      "                   2                 500  266142612761153376\n",
      "               18779                 291          5729658213\n",
      "            70418579               36025  427218049160723648\n",
      "        823541405677                1156                  40\n",
      "        858771920834                  10                  23\n",
      "       9337751446434 1463242961514323712         19938725646\n",
      "   11953829303217602                   1             1149314\n",
      "        697395492631               13567                   1\n",
      "                  29                  61   31430261374361172\n",
      "                  14         18966441908                  58\n",
      "      57024366174747   21717874123610820            60409733\n",
      "             1142800         69869842003                  65\n",
      "                 538               52704         23864162339\n",
      "                  64                1042        219813980204\n",
      "            10774494       1912608437018              357778\n",
      "      80707129020250               35557                2079\n",
      "                 545           448802414                   1\n",
      "                  11                 282                   8\n",
      "                   8    6846379617764253                8966\n",
      "                   8                   3        619124236983\n",
      "              159085            16469557                   1\n",
      "                   6                   1       4663316950616\n",
      "                   1                4503                   1\n",
      "           349773198                  22      44558927039017\n",
      "                   3                1633          3977918011\n",
      "              369217           613042658        287545586497\n",
      "      19826273947731              107393            40998670\n",
      "                   1           155513217  101793509456358064\n",
      "                   1                2406               26267\n",
      "     305929475935426                2018   18321125834720728\n",
      "                   5            12259334                   1\n",
      "          6728711984                  22              699354\n",
      "          4767857269                  59             6402636\n",
      "               15646   23986877676607368     242920271862963\n",
      "                  31                   1                   9\n",
      "     224493405347405                  10            56070954\n",
      "          7899866403                   3                   2\n",
      "                 234   58978902427322168            25952037\n",
      "      56824974985609              580335               40600\n",
      "  269174374452196640             3760176                 272\n",
      " 2705703597916678144          5791596153               74860\n",
      "             3589664                   3                 426\n",
      "                 481                  66   13857328652613910\n",
      "                  28                   3               77638\n",
      "                 310       2387996781439              429830\n",
      "    2135856207273135           477015525           831253245\n",
      "                   1               18084            70378826\n",
      "                   1              732062         86150632138\n",
      "                1575           998908734          2711280431\n",
      "               23826                   4                8184\n",
      "                  44           240318821                   5\n",
      "        153225784317                 406       4705641141461\n",
      "            46459448                  13         14305102451\n",
      "                   5        859143672707                   1\n",
      "         41389976007      65667097566161                  10\n",
      "       6401580383287             3547805           994179477\n",
      "  115016608781295120                   7                 110\n",
      "        359865879853           108331132                7336\n",
      "          1378964725                 427   22014100693218632\n",
      "           132798071                   1                1350\n",
      " 2237519407046805504               17357                   8\n",
      "           165078726        147699552856                 288\n",
      "               23998      31885330412647            86696712\n",
      "             7054058           560939640                   2\n",
      "                   5                  36       7620748182826\n",
      "             1845706]\n"
     ]
    },
    {
     "data": {
      "text/plain": [
       "Text(0.5, 1.0, 'a=2.5')"
      ]
     },
     "execution_count": 36,
     "metadata": {},
     "output_type": "execute_result"
    },
    {
     "data": {
      "image/png": "[encoded data removed]",
      "text/plain": [
       "<Figure size 1296x864 with 6 Axes>"
      ]
     },
     "metadata": {
      "needs_background": "light"
     },
     "output_type": "display_data"
    }
   ],
   "source": [
    "#plt.figure(figsize = (20,15))\n",
    "fig, axs = plt.subplots(3, 2, figsize = (18,12))\n",
    "\n",
    "a = 1.05 # parameter\n",
    "s = np.random.zipf(a, 1000)\n",
    "print(s)\n",
    "x = np.arange(1., 50.)\n",
    "y = x**(-a) / special.zetac(a)  \n",
    "\n",
    "axs[0, 0].hist(s[s<50], 50, density=True)\n",
    "axs[0, 0].plot(x, y/max(y), linewidth=2, color='r')\n",
    "axs[0, 0].set_title(\"a=1.05\")\n",
    "\n",
    "a = 1.25 # parameter\n",
    "s = np.random.zipf(a, 1000)\n",
    "y = x**(-a) / special.zetac(a)  \n",
    "\n",
    "axs[0, 1].hist(s[s<50], 50, density=True)\n",
    "axs[0, 1].plot(x, y/max(y), linewidth=2, color='r')\n",
    "axs[0, 1].set_title(\"a=1.25\")\n",
    "\n",
    "a = 1.5 # parameter\n",
    "s = np.random.zipf(a, 1000)\n",
    "y = x**(-a) / special.zetac(a)  \n",
    "\n",
    "axs[1, 0].hist(s[s<50], 50, density=True)\n",
    "axs[1, 0].plot(x, y/max(y), linewidth=2, color='r')\n",
    "axs[1, 0].set_title(\"a=1.5\")\n",
    "\n",
    "a = 2 # parameter\n",
    "s = np.random.zipf(a, 1000)\n",
    "y = x**(-a) / special.zetac(a)  \n",
    "\n",
    "axs[1, 1].hist(s[s<50], 50, density=True)\n",
    "axs[1, 1].plot(x, y/max(y), linewidth=2, color='r')\n",
    "axs[1, 1].set_title(\"a=2\")\n",
    "\n",
    "a = 2.25 # parameter\n",
    "s = np.random.zipf(a, 1000)\n",
    "y = x**(-a) / special.zetac(a)  \n",
    "\n",
    "axs[2, 0].hist(s[s<50], 50, density=True)\n",
    "axs[2, 0].plot(x, y/max(y), linewidth=2, color='r')\n",
    "axs[2, 0].set_title(\"a=2.25\")\n",
    "\n",
    "a = 2.5 # parameter\n",
    "s = np.random.zipf(a, 1000)\n",
    "y = x**(-a) / special.zetac(a)  \n",
    "\n",
    "axs[2, 1].hist(s[s<50], 50, density=True)\n",
    "axs[2, 1].plot(x, y/max(y), linewidth=2, color='r')\n",
    "axs[2, 1].set_title(\"a=2.5\")\n",
    "\n",
    "\n",
    "\n",
    "\n",
    "\n",
    "\n"
   ]
  },
  {
   "cell_type": "code",
   "execution_count": 19,
   "metadata": {},
   "outputs": [
    {
     "data": {
      "image/png": "[encoded data removed]",
      "text/plain": [
       "<Figure size 432x288 with 1 Axes>"
      ]
     },
     "metadata": {
      "needs_background": "light"
     },
     "output_type": "display_data"
    }
   ],
   "source": [
    "a = 1.25 # parameter\n",
    "\n",
    "s = np.random.zipf(a, 1000)\n",
    "count, bins, ignored = plt.hist(s[s<50], 50, density=True)\n",
    "\n",
    "x = np.arange(1., 50.)\n",
    "\n",
    "y = x**(-a) / special.zetac(a)  \n",
    "\n",
    "plt.plot(x, y/max(y), linewidth=2, color='r')  \n",
    "plt.show()"
   ]
  },
  {
   "cell_type": "code",
   "execution_count": 20,
   "metadata": {},
   "outputs": [
    {
     "data": {
      "image/png": "[encoded data removed]",
      "text/plain": [
       "<Figure size 432x288 with 1 Axes>"
      ]
     },
     "metadata": {
      "needs_background": "light"
     },
     "output_type": "display_data"
    }
   ],
   "source": [
    "a = 1.25 # parameter\n",
    "\n",
    "s = np.random.zipf(a, 1000)\n",
    "count, bins, ignored = plt.hist(s[s<50], 50, density=True)\n",
    "\n",
    "x = np.arange(1., 50.)\n",
    "\n",
    "y = x**(-a) / special.zetac(a)  \n",
    "\n",
    "plt.plot(x, y/max(y), linewidth=2, color='r')  \n",
    "plt.show()"
   ]
  },
  {
   "cell_type": "code",
   "execution_count": 22,
   "metadata": {},
   "outputs": [
    {
     "data": {
      "image/png": "[encoded data removed]",
      "text/plain": [
       "<Figure size 432x288 with 1 Axes>"
      ]
     },
     "metadata": {
      "needs_background": "light"
     },
     "output_type": "display_data"
    }
   ],
   "source": [
    "a = 1.07 # parameter\n",
    "\n",
    "s = np.random.zipf(a, 1000)\n",
    "count, bins, ignored = plt.hist(s[s<50], 50, density=True)\n",
    "\n",
    "x = np.arange(1., 50.)\n",
    "\n",
    "y = x**(-a) / special.zetac(a)  \n",
    "\n",
    "plt.plot(x, y/max(y), linewidth=2, color='r')  \n",
    "plt.show()"
   ]
  },
  {
   "cell_type": "code",
   "execution_count": 25,
   "metadata": {},
   "outputs": [
    {
     "data": {
      "image/png": "[encoded data removed]",
      "text/plain": [
       "<Figure size 432x288 with 1 Axes>"
      ]
     },
     "metadata": {
      "needs_background": "light"
     },
     "output_type": "display_data"
    }
   ],
   "source": [
    "a = 2.5 # parameter\n",
    "\n",
    "s = np.random.zipf(a, 1000)\n",
    "count, bins, ignored = plt.hist(s[s<50], 50, density=True)\n",
    "\n",
    "x = np.arange(1., 50.)\n",
    "\n",
    "y = x**(-a) / special.zetac(a)  \n",
    "\n",
    "plt.plot(x, y/max(y), linewidth=2, color='r')  \n",
    "plt.show()"
   ]
  },
  {
   "cell_type": "code",
   "execution_count": 43,
   "metadata": {},
   "outputs": [
    {
     "name": "stdout",
     "output_type": "stream",
     "text": [
      "[0.6079271  0.15198178 0.06754746 0.03799544 0.02431708]\n"
     ]
    }
   ],
   "source": [
    "a = 2\n",
    "x = [1, 2, 3, 4, 5]\n",
    "prob = zipf.pmf(x, a)\n",
    "print(prob)"
   ]
  },
  {
   "cell_type": "code",
   "execution_count": 44,
   "metadata": {},
   "outputs": [
    {
     "data": {
      "text/plain": [
       "0.8897688610191294"
      ]
     },
     "execution_count": 44,
     "metadata": {},
     "output_type": "execute_result"
    }
   ],
   "source": [
    "sum(prob)"
   ]
  },
  {
   "cell_type": "code",
   "execution_count": 62,
   "metadata": {},
   "outputs": [],
   "source": [
    "r = zipf.rvs(a, size=100)"
   ]
  },
  {
   "cell_type": "code",
   "execution_count": 63,
   "metadata": {},
   "outputs": [
    {
     "name": "stdout",
     "output_type": "stream",
     "text": [
      "[ 1  4  2  1  2  1  1  1  3  1  1  7  3  1  1  1  1  3  1  1  1  4  1  1\n",
      "  1  1  1  5  1  1  1  1  1  3  1  1  1  2  1  1  1  1  2  2  1  1  1  1\n",
      "  1  1  1  1 12 78  1  1  3  1  1  1  4  1  3  1  1  6  1  1  6  1  2  1\n",
      "  1  2  1  4  6  3  1  1  6  1  1  5 15  1  3  1  1 12  1  1  1  1  1 11\n",
      "  4  6  5  1]\n"
     ]
    },
    {
     "data": {
      "text/plain": [
       "0.9999999999999996"
      ]
     },
     "execution_count": 63,
     "metadata": {},
     "output_type": "execute_result"
    }
   ],
   "source": [
    "print(r)\n",
    "r = r/sum(r)\n",
    "sum(r)"
   ]
  },
  {
   "cell_type": "code",
   "execution_count": 64,
   "metadata": {},
   "outputs": [
    {
     "name": "stdout",
     "output_type": "stream",
     "text": [
      "[ 2  1  1  2  1  1  1  1  1  6  1  1  1  2  1  1  1  2  1  6  1  4  4  1\n",
      "  3  2  1  1  1  2  1  1  9  3  1  3  5  4  1  1  1  1  1  9  1 21  1  1\n",
      "  1 30  4  3  2  8  1  1  1  1  7 40  2  2  1  1  1 14  3  2  1  3  2  3\n",
      "  1  1  1  1  1  2  1  1  7  2  1  1  2  1  1  1 22  1  1 20  1  1  1  1\n",
      "  1  8  7  1]\n"
     ]
    }
   ],
   "source": [
    "r = zipf.rvs(a, size=100)\n",
    "print(r)"
   ]
  },
  {
   "cell_type": "code",
   "execution_count": null,
   "metadata": {},
   "outputs": [],
   "source": [
    "r = zipf.rvs(a, size=100)"
   ]
  },
  {
   "cell_type": "code",
   "execution_count": 68,
   "metadata": {},
   "outputs": [
    {
     "name": "stdout",
     "output_type": "stream",
     "text": [
      "100\n"
     ]
    },
    {
     "data": {
      "image/png": "[encoded data removed]",
      "text/plain": [
       "<Figure size 432x288 with 1 Axes>"
      ]
     },
     "metadata": {
      "needs_background": "light"
     },
     "output_type": "display_data"
    }
   ],
   "source": [
    "a = 2.5 # parameter\n",
    "\n",
    "s = np.random.zipf(a, 100)\n",
    "\n",
    "print(len(s))\n",
    "count, bins, ignored = plt.hist(s[s<100], 50, density=True)\n",
    "\n",
    "#x = np.arange(1., 50.)\n",
    "\n",
    "#y = x**(-a) / special.zetac(a)  "
   ]
  },
  {
   "cell_type": "code",
   "execution_count": 69,
   "metadata": {},
   "outputs": [
    {
     "data": {
      "text/plain": [
       "array([ 1,  1,  1,  5,  1,  2,  1,  2,  1,  2,  1,  1,  2,  1,  1,  1,  1,\n",
       "        1,  1,  1,  1,  1,  1,  3,  3,  3,  1,  2,  1,  1,  1,  2,  3,  1,\n",
       "        1,  1,  1,  1,  1,  1,  1,  1,  1, 14,  1,  1,  1,  1,  1,  1,  2,\n",
       "        1,  1,  1,  1,  1,  1,  1,  2,  3,  1,  6,  1,  1,  1,  3,  1,  1,\n",
       "        1,  1,  1,  1,  1,  3,  1,  1,  1,  1,  1,  1,  1,  1, 14,  1,  1,\n",
       "        1,  1,  1,  1,  2,  3,  1,  1,  1,  1,  1,  1,  1,  1,  1])"
      ]
     },
     "execution_count": 69,
     "metadata": {},
     "output_type": "execute_result"
    }
   ],
   "source": [
    "s"
   ]
  },
  {
   "cell_type": "code",
   "execution_count": 70,
   "metadata": {},
   "outputs": [
    {
     "data": {
      "text/plain": [
       "array([ 1,  1,  1,  1,  3,  1,  1,  1,  1,  1,  1,  1,  1,  1,  2,  1,  1,\n",
       "        1,  1,  1,  1,  1,  5,  1, 37,  2,  1,  1,  1,  1,  1,  1,  1,  1,\n",
       "        1,  1,  1,  1,  1,  1,  1,  1,  1,  2,  1,  1,  1,  8,  1,  1,  1,\n",
       "        1,  1,  1,  1,  1,  2,  1,  1,  1,  1,  2,  1,  1,  2,  1,  1,  1,\n",
       "        1,  1,  1,  1,  2,  7,  1,  1,  3,  3,  6,  1,  1,  3,  1,  2,  1,\n",
       "        1,  2,  2,  1,  1,  1,  1,  1,  1,  2,  1,  1,  1,  1,  1])"
      ]
     },
     "execution_count": 70,
     "metadata": {},
     "output_type": "execute_result"
    }
   ],
   "source": [
    "s = np.random.zipf(a, 100)\n",
    "s"
   ]
  },
  {
   "cell_type": "code",
   "execution_count": 80,
   "metadata": {},
   "outputs": [
    {
     "ename": "AttributeError",
     "evalue": "module 'numpy' has no attribute 'range'",
     "output_type": "error",
     "traceback": [
      "\u001b[0;31m---------------------------------------------------------------------------\u001b[0m",
      "\u001b[0;31mAttributeError\u001b[0m                            Traceback (most recent call last)",
      "\u001b[0;32m<ipython-input-80-53d8e1b317c6>\u001b[0m in \u001b[0;36m<module>\u001b[0;34m\u001b[0m\n\u001b[1;32m      1\u001b[0m \u001b[0mz\u001b[0m \u001b[0;34m=\u001b[0m \u001b[0;36m1\u001b[0m\u001b[0;34m\u001b[0m\u001b[0;34m\u001b[0m\u001b[0m\n\u001b[0;32m----> 2\u001b[0;31m \u001b[0mp\u001b[0m \u001b[0;34m=\u001b[0m \u001b[0mnp\u001b[0m\u001b[0;34m.\u001b[0m\u001b[0mrange\u001b[0m\u001b[0;34m(\u001b[0m\u001b[0;36m1\u001b[0m\u001b[0;34m,\u001b[0m\u001b[0;36m101\u001b[0m\u001b[0;34m)\u001b[0m\u001b[0;34m\u001b[0m\u001b[0;34m\u001b[0m\u001b[0m\n\u001b[0m\u001b[1;32m      3\u001b[0m \u001b[0mp\u001b[0m\u001b[0;34m\u001b[0m\u001b[0;34m\u001b[0m\u001b[0m\n",
      "\u001b[0;32m/opt/anaconda3/lib/python3.7/site-packages/numpy/__init__.py\u001b[0m in \u001b[0;36m__getattr__\u001b[0;34m(attr)\u001b[0m\n\u001b[1;32m    213\u001b[0m             \u001b[0;32melse\u001b[0m\u001b[0;34m:\u001b[0m\u001b[0;34m\u001b[0m\u001b[0;34m\u001b[0m\u001b[0m\n\u001b[1;32m    214\u001b[0m                 raise AttributeError(\"module {!r} has no attribute \"\n\u001b[0;32m--> 215\u001b[0;31m                                      \"{!r}\".format(__name__, attr))\n\u001b[0m\u001b[1;32m    216\u001b[0m \u001b[0;34m\u001b[0m\u001b[0m\n\u001b[1;32m    217\u001b[0m         \u001b[0;32mdef\u001b[0m \u001b[0m__dir__\u001b[0m\u001b[0;34m(\u001b[0m\u001b[0;34m)\u001b[0m\u001b[0;34m:\u001b[0m\u001b[0;34m\u001b[0m\u001b[0;34m\u001b[0m\u001b[0m\n",
      "\u001b[0;31mAttributeError\u001b[0m: module 'numpy' has no attribute 'range'"
     ]
    }
   ],
   "source": [
    "z = 1\n",
    "p = np.range(1,101)\n",
    "p"
   ]
  },
  {
   "cell_type": "code",
   "execution_count": 81,
   "metadata": {},
   "outputs": [
    {
     "data": {
      "text/plain": [
       "range(0, 1000)"
      ]
     },
     "execution_count": 81,
     "metadata": {},
     "output_type": "execute_result"
    }
   ],
   "source": [
    "range(1000)"
   ]
  },
  {
   "cell_type": "code",
   "execution_count": 98,
   "metadata": {},
   "outputs": [
    {
     "data": {
      "text/plain": [
       "array([0.19277564, 0.09638782, 0.06425855, 0.04819391, 0.03855513,\n",
       "       0.03212927, 0.02753938, 0.02409695, 0.02141952, 0.01927756,\n",
       "       0.01752506, 0.01606464, 0.0148289 , 0.01376969, 0.01285171,\n",
       "       0.01204848, 0.01133974, 0.01070976, 0.01014609, 0.00963878,\n",
       "       0.00917979, 0.00876253, 0.00838155, 0.00803232, 0.00771103,\n",
       "       0.00741445, 0.00713984, 0.00688484, 0.00664744, 0.00642585,\n",
       "       0.00621857, 0.00602424, 0.00584169, 0.00566987, 0.00550788,\n",
       "       0.00535488, 0.00521015, 0.00507304, 0.00494297, 0.00481939,\n",
       "       0.00470184, 0.0045899 , 0.00448315, 0.00438126, 0.0042839 ,\n",
       "       0.00419077, 0.00410161, 0.00401616, 0.0039342 , 0.00385551,\n",
       "       0.00377991, 0.00370722, 0.00363728, 0.00356992, 0.00350501,\n",
       "       0.00344242, 0.00338203, 0.00332372, 0.00326738, 0.00321293,\n",
       "       0.00316026, 0.00310928, 0.00305993, 0.00301212, 0.00296578,\n",
       "       0.00292084, 0.00287725, 0.00283494, 0.00279385, 0.00275394,\n",
       "       0.00271515, 0.00267744, 0.00264076, 0.00260508, 0.00257034,\n",
       "       0.00253652, 0.00250358, 0.00247148, 0.0024402 , 0.0024097 ,\n",
       "       0.00237995, 0.00235092, 0.0023226 , 0.00229495, 0.00226795,\n",
       "       0.00224158, 0.00221581, 0.00219063, 0.00216602, 0.00214195,\n",
       "       0.00211841, 0.00209539, 0.00207286, 0.0020508 , 0.00202922,\n",
       "       0.00200808, 0.00198738, 0.0019671 , 0.00194723, 0.00192776])"
      ]
     },
     "execution_count": 98,
     "metadata": {},
     "output_type": "execute_result"
    }
   ],
   "source": [
    "p = (1/np.arange(1,101))**()\n",
    "p = p/sum(p)\n",
    "p"
   ]
  },
  {
   "cell_type": "code",
   "execution_count": 99,
   "metadata": {},
   "outputs": [
    {
     "data": {
      "text/plain": [
       "1.0"
      ]
     },
     "execution_count": 99,
     "metadata": {},
     "output_type": "execute_result"
    }
   ],
   "source": [
    "sum(p)"
   ]
  },
  {
   "cell_type": "code",
   "execution_count": 100,
   "metadata": {},
   "outputs": [
    {
     "data": {
      "image/png": "[encoded data removed]",
      "text/plain": [
       "<Figure size 432x288 with 1 Axes>"
      ]
     },
     "metadata": {
      "needs_background": "light"
     },
     "output_type": "display_data"
    }
   ],
   "source": [
    "plt.plot(range(1,101), p)\n",
    "plt.show()"
   ]
  },
  {
   "cell_type": "code",
   "execution_count": 97,
   "metadata": {},
   "outputs": [
    {
     "data": {
      "text/plain": [
       "1329"
      ]
     },
     "execution_count": 97,
     "metadata": {},
     "output_type": "execute_result"
    }
   ],
   "source": [
    "6000 - 5948 + 1277"
   ]
  },
  {
   "cell_type": "code",
   "execution_count": 101,
   "metadata": {},
   "outputs": [
    {
     "data": {
      "text/plain": [
       "6000"
      ]
     },
     "execution_count": 101,
     "metadata": {},
     "output_type": "execute_result"
    }
   ],
   "source": [
    "sum([661, 273, 440, 704, 494, 491, 384, 833, 1103, 617])"
   ]
  },
  {
   "cell_type": "code",
   "execution_count": 2,
   "metadata": {},
   "outputs": [
    {
     "name": "stdout",
     "output_type": "stream",
     "text": [
      "[7 2 5 0 4 6 1 0 4 7 7 5 5 0 3 1 3 1 6 6 0 5 2 7 4 5 0 4 0 4 4 6 2 5 2 4 2\n",
      " 0 5 0 6 5 2 5 5 5 3 0 6 0 1 3 6 4 7 2 4 3 6 2 1 6 6 5 5 2 2 0 5 0 0 1 0 5\n",
      " 7 3 0 3 7 3 1 4 4 3 1 4 6 1 0 2 6 5 6 0 3 2 0 5 3 5]\n"
     ]
    }
   ],
   "source": [
    "#produce z_rnd_part7 assignment\n",
    "import random\n",
    "n = 100\n",
    "m = 8\n",
    "\n",
    "z = np.empty(n, dtype=int)\n",
    "tmp = random.sample(set(np.arange(n)), m)\n",
    "for s in range (m):\n",
    "    z[tmp[s]] = s\n",
    "\n",
    "remaining = set(np.arange(n)) - set(tmp)\n",
    "for i in remaining:\n",
    "    s = random.randint(0,m-1)\n",
    "    z[i] = s\n",
    "df = pd.DataFrame(z.tolist())\n",
    "print(z)\n",
    "df.to_csv(\"./z_ass/2z_rnd.part\" + str(m), header=False, index=False)"
   ]
  },
  {
   "cell_type": "code",
   "execution_count": 12,
   "metadata": {},
   "outputs": [
    {
     "data": {
      "text/plain": [
       "[41, 64, 85, 84, 66, 43, 75, 9]"
      ]
     },
     "execution_count": 12,
     "metadata": {},
     "output_type": "execute_result"
    }
   ],
   "source": [
    "tmp"
   ]
  },
  {
   "cell_type": "code",
   "execution_count": 9,
   "metadata": {},
   "outputs": [
    {
     "data": {
      "image/png": "[encoded data removed]",
      "text/plain": [
       "<Figure size 1440x576 with 4 Axes>"
      ]
     },
     "metadata": {
      "needs_background": "light"
     },
     "output_type": "display_data"
    }
   ],
   "source": [
    "wPoint_L1 = pd.read_csv(\"./z_ass/wPCA_B20_L1_non_iid_zipfz0.7\")\n",
    "wPoint_L50 = pd.read_csv(\"./z_ass/wPCA_B20_L50_non_iid_zipfz0.7\")\n",
    "wPoint_MLP2_L50 = pd.read_csv(\"./z_ass/wPCA_MLP2_B10_L50_non_iid_zipfz0.7\")\n",
    "\n",
    "wPoint_MLP2_L200 = pd.read_csv(\"./z_ass/wPCA_MLP2_B10_L200_non_iid_zipfz0.7\")\n",
    "\n",
    "fig, axs = plt.subplots(2, 2, figsize=(20,8))\n",
    "\n",
    "#fig = plt.figure(figsize=(20,5))\n",
    "#ax = fig.add_subplot(111)\n",
    "\n",
    "axs[0,0].scatter(wPoint_L1['pc1'],wPoint_L1['pc2'] , s= 20)\n",
    "axs[0,1].scatter(wPoint_L50['pc1'],wPoint_L50['pc2'], s=20 )\n",
    "\n",
    "axs[1,0].scatter(wPoint_MLP2_L50['pc1'],wPoint_MLP2_L50['pc2'], s=20 )\n",
    "\n",
    "axs[1,1].scatter(wPoint_MLP2_L200['pc1'],wPoint_MLP2_L200['pc2'], s=20 )\n",
    "\n",
    "\n",
    "axs[0,0].set_title(\"wPCA_B20_L1\")\n",
    "axs[0,1].set_title(\"wPCA_B20_L50\")\n",
    "axs[1,0].set_title(\"wPCA_MLP2_B10_L50\")\n",
    "axs[1,1].set_title(\"wPCA_MLP2_B10_L200\")\n",
    "\n",
    "\n",
    "#ax.set_ylabel('Test accuracy')\n",
    "#ax.legend(loc='best')\n",
    "plt.show()"
   ]
  },
  {
   "cell_type": "code",
   "execution_count": 2,
   "metadata": {},
   "outputs": [
    {
     "ename": "NameError",
     "evalue": "name 'wPoint_L50' is not defined",
     "output_type": "error",
     "traceback": [
      "\u001b[0;31m---------------------------------------------------------------------------\u001b[0m",
      "\u001b[0;31mNameError\u001b[0m                                 Traceback (most recent call last)",
      "\u001b[0;32m<ipython-input-2-7a5e72ef9e4a>\u001b[0m in \u001b[0;36m<module>\u001b[0;34m\u001b[0m\n\u001b[1;32m      4\u001b[0m \u001b[0;34m\u001b[0m\u001b[0m\n\u001b[1;32m      5\u001b[0m \u001b[0;34m\u001b[0m\u001b[0m\n\u001b[0;32m----> 6\u001b[0;31m \u001b[0mkmeans\u001b[0m \u001b[0;34m=\u001b[0m \u001b[0mKMeans\u001b[0m\u001b[0;34m(\u001b[0m\u001b[0mn_clusters\u001b[0m\u001b[0;34m=\u001b[0m\u001b[0;36m5\u001b[0m\u001b[0;34m)\u001b[0m\u001b[0;34m.\u001b[0m\u001b[0mfit\u001b[0m\u001b[0;34m(\u001b[0m\u001b[0mwPoint_L50\u001b[0m\u001b[0;34m)\u001b[0m\u001b[0;34m\u001b[0m\u001b[0;34m\u001b[0m\u001b[0m\n\u001b[0m\u001b[1;32m      7\u001b[0m \u001b[0mcentroids\u001b[0m \u001b[0;34m=\u001b[0m \u001b[0mkmeans\u001b[0m\u001b[0;34m.\u001b[0m\u001b[0mcluster_centers_\u001b[0m\u001b[0;34m\u001b[0m\u001b[0;34m\u001b[0m\u001b[0m\n\u001b[1;32m      8\u001b[0m \u001b[0;31m#print(centroids)\u001b[0m\u001b[0;34m\u001b[0m\u001b[0;34m\u001b[0m\u001b[0;34m\u001b[0m\u001b[0m\n",
      "\u001b[0;31mNameError\u001b[0m: name 'wPoint_L50' is not defined"
     ]
    }
   ],
   "source": [
    "from sklearn.cluster import KMeans\n",
    "\n",
    "z_metis = pd.read_csv(\"./z_ass/g_d_euclidean_B20_L50_non_iid_zipfz0.7.part.5\", header = None)\n",
    "\n",
    "\n",
    "kmeans = KMeans(n_clusters=5).fit(wPoint_L50)\n",
    "centroids = kmeans.cluster_centers_\n",
    "#print(centroids)\n",
    "#fig = plt.figure(figsize=(10,10))\n",
    "#plt.scatter(wPoint_L50['principal component 1'], wPoint_L50['principal component 2'], c= kmeans.labels_.astype(float), s=50, alpha=0.5)\n",
    "\n",
    "fig, axs = plt.subplots(1, 2, figsize=(20,8))\n",
    "\n",
    "axs[0].scatter(wPoint_CNN_L20['pc1'],wPoint_L50['pc2'] , s= 20, \n",
    "               c= kmeans.labels_.astype(float), alpha=0.5)\n",
    "axs[1].scatter(wPoint_L50['pc1'],wPoint_L50['pc2'], s=20, c=z_metis.values.squeeze())\n",
    "\n",
    "\n",
    "axs[0].set_title(\"Kmeans\")\n",
    "axs[1].set_title(\"Metis\")\n",
    "\n",
    "plt.show()"
   ]
  },
  {
   "cell_type": "code",
   "execution_count": 2,
   "metadata": {},
   "outputs": [
    {
     "data": {
      "image/png": "[encoded data removed]",
      "text/plain": [
       "<Figure size 1440x576 with 2 Axes>"
      ]
     },
     "metadata": {
      "needs_background": "light"
     },
     "output_type": "display_data"
    }
   ],
   "source": [
    "wPoint_CNN_L20 = pd.read_csv(\"./z_ass/wPCA_CNN_P1.6m_B10_L20_non_iid_zipfz0.7\")\n",
    "z_metis_knn5 = pd.read_csv(\"./z_ass/g_no_vw_knn5_d_euclidean_CNN_P1.6m_B10_L20_non_iid_zipfz0.7.part.5\", header = None)\n",
    "#z_metis_knn5 = pd.read_csv(\"./z_ass/g_knn5_d_euclidean_CNN_P1.6m_B10_L20_non_iid_zipfz0.7.part.5\", header = None)\n",
    "\n",
    "\n",
    "fig, axs = plt.subplots(1, 2, figsize=(20,8))\n",
    "\n",
    "axs[0].scatter(wPoint_CNN_L20['pc1'],wPoint_CNN_L20['pc2'] , s= 20, \n",
    "               c=z_metis_knn5.values.squeeze())\n",
    "#axs[1].scatter(wPoint_CNN_L20['pc1'],wPoint_CNN_L20['pc2'], s=20, c=z_metis_knn5.values.squeeze())\n",
    "\n",
    "\n",
    "axs[0].set_title(\"metis_no_vw_knn5\")\n",
    "#axs[1].set_title(\"metis_knn5\")\n",
    "\n",
    "plt.show()\n"
   ]
  },
  {
   "cell_type": "code",
   "execution_count": 3,
   "metadata": {},
   "outputs": [
    {
     "name": "stdout",
     "output_type": "stream",
     "text": [
      "[0 1 0 1 0 1 0 4 4 0 0 0 1 0 0 1 1 4 1 1 1 4 1 1 0 1 4 4 0 4 4 4 0 4 4 1 1\n",
      " 0 4 0 4 1 0 1 4 1 0 4 0 4]\n"
     ]
    }
   ],
   "source": [
    "print (z_metis_knn5.values.squeeze())"
   ]
  },
  {
   "cell_type": "code",
   "execution_count": 14,
   "metadata": {},
   "outputs": [
    {
     "name": "stdout",
     "output_type": "stream",
     "text": [
      "cluster distribution: \n",
      "[0, 1, 23, 41, 61, 80, 81, 84, 90, 95]\n",
      "[3, 8, 12, 17, 18, 21, 32, 42, 48, 53, 67, 68, 69, 72, 73, 74, 75, 77, 83, 85, 87, 88, 91, 94, 99]\n",
      "[7, 9, 10, 11, 13, 14, 19, 20, 22, 24, 30, 37, 43, 54, 63, 64]\n",
      "[4, 5, 6, 15, 25, 34, 35, 39, 40, 49, 50, 55, 58, 59, 65, 71, 79, 82, 86, 89, 92, 93, 96, 97]\n",
      "[2, 16, 26, 27, 28, 29, 31, 33, 36, 38, 44, 45, 46, 47, 51, 52, 56, 57, 60, 62, 66, 70, 76, 78, 98]\n"
     ]
    }
   ],
   "source": [
    "z = z_metis_knn5.values.squeeze()\n",
    "print (\"cluster distribution: \")\n",
    "cluster = [[],[],[],[],[]]\n",
    "for i in range(len(z)):\n",
    "    cluster[z[i]].append(i)\n",
    "for i in range(len(cluster)):\n",
    "    print(cluster[i])"
   ]
  },
  {
   "cell_type": "code",
   "execution_count": 15,
   "metadata": {},
   "outputs": [
    {
     "name": "stdout",
     "output_type": "stream",
     "text": [
      "cluster distribution: \n",
      "[2, 7, 14, 15, 19, 20, 22, 26, 28, 30, 33, 34, 37, 41, 46, 62, 71, 76, 86, 89]\n",
      "[3, 8, 12, 17, 18, 32, 48, 53, 61, 67, 68, 72, 75, 77, 80, 85, 87, 90, 91, 99]\n",
      "[0, 1, 5, 11, 13, 29, 35, 36, 44, 45, 47, 50, 57, 63, 64, 81, 82, 92, 93, 96]\n",
      "[6, 9, 10, 16, 23, 24, 31, 38, 51, 52, 55, 59, 60, 66, 69, 74, 83, 88, 95, 98]\n",
      "[4, 21, 25, 27, 39, 40, 42, 43, 49, 54, 56, 58, 65, 70, 73, 78, 79, 84, 94, 97]\n"
     ]
    }
   ],
   "source": [
    "z = z_metis_knn1.values.squeeze()\n",
    "print (\"cluster distribution: \")\n",
    "cluster = [[],[],[],[],[]]\n",
    "for i in range(len(z)):\n",
    "    cluster[z[i]].append(i)\n",
    "for i in range(len(cluster)):\n",
    "    print(cluster[i])"
   ]
  },
  {
   "cell_type": "code",
   "execution_count": 27,
   "metadata": {},
   "outputs": [
    {
     "name": "stdout",
     "output_type": "stream",
     "text": [
      "cluster distribution: ./z_ass/g_d_euclidean_L50_non_iid_zipfz0.7.part.5 \n",
      "[4, 5, 6, 21, 29, 31, 33, 38, 42, 49, 55, 58, 59, 61, 63, 64, 66, 67, 74, 79, 86, 89, 92, 93, 94]\n",
      "[3, 7, 8, 9, 11, 12, 23, 26, 35, 36, 46, 68, 69, 73, 76, 77, 78, 90]\n",
      "[13, 14, 17, 18, 19, 20, 22, 30, 37, 48, 50, 51, 52, 57, 60, 83, 85, 88, 91, 95, 97]\n",
      "[1, 25, 32, 34, 41, 56, 65, 70, 72, 75, 80, 81, 87, 98, 99]\n",
      "[0, 2, 10, 15, 16, 24, 27, 28, 39, 40, 43, 44, 45, 47, 53, 54, 62, 71, 82, 84, 96]\n"
     ]
    }
   ],
   "source": [
    "z = pd.read_csv(\"./z_ass/g_d_euclidean_L50_non_iid_zipfz0.7.part.5\")\n",
    "z = z.values.squeeze().astype(int)[:,1]\n",
    "#print(z)\n",
    "print (\"cluster distribution: ./z_ass/g_d_euclidean_L50_non_iid_zipfz0.7.part.5 \")\n",
    "cluster = [[],[],[],[],[]]\n",
    "for i in range(len(z)):\n",
    "    cluster[z[i]].append(i)\n",
    "for i in range(len(cluster)):\n",
    "    print(cluster[i])"
   ]
  },
  {
   "cell_type": "code",
   "execution_count": 30,
   "metadata": {},
   "outputs": [
    {
     "name": "stdout",
     "output_type": "stream",
     "text": [
      "[3 0 2 2 1 1 0 2 1 2 3 4 2 1 2 4 0 3 4 0 2 3 3 1 0 2 3 3 2 3 3 1 3 1 1 0 1\n",
      " 2 3 1 4 4 1 0 1 4 3 1 2 3 2 1 3 2 4 2 3 3 3 4 2 3 0 2 4 2 2 1 0 2 3 1 3 3\n",
      " 1 3 4 4 1 4 0 0 2 3 0 2 3 0 0 4 0 2 0 0 1 0 3 4 4]\n",
      "cluster distribution: ./z_ass/1z_rnd.part5 \n",
      "[1, 6, 16, 19, 24, 35, 43, 62, 68, 80, 81, 84, 87, 88, 90, 92, 93, 95]\n",
      "[4, 5, 8, 13, 23, 31, 33, 34, 36, 39, 42, 44, 47, 51, 67, 71, 74, 78, 94]\n",
      "[2, 3, 7, 9, 12, 14, 20, 25, 28, 37, 48, 50, 53, 55, 60, 63, 65, 66, 69, 82, 85, 91]\n",
      "[0, 10, 17, 21, 22, 26, 27, 29, 30, 32, 38, 46, 49, 52, 56, 57, 58, 61, 70, 72, 73, 75, 83, 86, 96]\n",
      "[11, 15, 18, 40, 41, 45, 54, 59, 64, 76, 77, 79, 89, 97, 98]\n"
     ]
    }
   ],
   "source": [
    "z = pd.read_csv(\"./z_ass/1z_rnd.part5\")\n",
    "z = z.values.squeeze().astype(int)\n",
    "print(z)\n",
    "print (\"cluster distribution: ./z_ass/1z_rnd.part5 \")\n",
    "cluster = [[],[],[],[],[]]\n",
    "for i in range(len(z)):\n",
    "    cluster[z[i]].append(i)\n",
    "for i in range(len(cluster)):\n",
    "    print(cluster[i])"
   ]
  },
  {
   "cell_type": "code",
   "execution_count": null,
   "metadata": {},
   "outputs": [],
   "source": []
  }
 ],
 "metadata": {
  "kernelspec": {
   "display_name": "Python 3",
   "language": "python",
   "name": "python3"
  },
  "language_info": {
   "codemirror_mode": {
    "name": "ipython",
    "version": 3
   },
   "file_extension": ".py",
   "mimetype": "text/x-python",
   "name": "python",
   "nbconvert_exporter": "python",
   "pygments_lexer": "ipython3",
   "version": "3.7.4"
  }
 },
 "nbformat": 4,
 "nbformat_minor": 2
}
