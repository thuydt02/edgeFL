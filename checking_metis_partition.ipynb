{
 "cells": [
  {
   "cell_type": "code",
   "execution_count": 9,
   "metadata": {},
   "outputs": [
    {
     "name": "stdout",
     "output_type": "stream",
     "text": [
      "#client distributing across edge servers\n",
      "g_nw_d_euclidean_MLP2_G10_partition_iid_nclient300.npy.part.10\n",
      "[30, 30, 30, 30, 30, 30, 30, 30, 30, 30, 0, 0, 0, 0, 0, 0, 0, 0, 0, 0, 0, 0, 0, 0, 0, 0, 0, 0, 0, 0]\n"
     ]
    }
   ],
   "source": [
    "import numpy as np\n",
    "import pandas as pd\n",
    "import matplotlib.pyplot as plt\n",
    "#path_file = \"./output/mnist/z_ass/\"\n",
    "path_file = \"./output/mnist/z_ass/\"\n",
    "\n",
    "\n",
    "z_metis_file = \"g_nw_d_euclidean_MLP2_G10_partition_iid_nclient300.npy.part.10\"\n",
    "\n",
    "#z_metis_file = \"g_nw_d_minkowski_p0.5_CNN2_G10_partition_noniid90_nclient300.npy.part.20\"\n",
    "\n",
    "f = open(path_file + z_metis_file, 'r')\n",
    "z_metis = np.asarray([int(line.strip()) for line in f.readlines()])\n",
    "f.close()\n",
    "\n",
    "m = 30\n",
    "n = 300\n",
    "metis_cluster = [[] for i in range(m)]\n",
    "for i in range(n):\n",
    "    metis_cluster[z_metis[i]].append(i)\n",
    " \n",
    "print(\"#client distributing across edge servers\")\n",
    "print(z_metis_file)\n",
    "print([len(metis_cluster[i]) for i in range(m)])\n",
    "\n"
   ]
  },
  {
   "cell_type": "code",
   "execution_count": null,
   "metadata": {},
   "outputs": [],
   "source": [
    "print(\"assignment: \", z_metis_file)\n",
    "for i in range(m):\n",
    "    print(metis_cluster[i])"
   ]
  },
  {
   "cell_type": "code",
   "execution_count": null,
   "metadata": {},
   "outputs": [],
   "source": [
    "#print dominated labels for clusters\n",
    "print (\"dominated labels distributing across edge servers \")\n",
    "print(z_metis_file)\n",
    "dominated_labels = [[] for _ in range(m)]\n",
    "for i in range(m):\n",
    "    for cl in metis_cluster[i]:\n",
    "        dominated_labels[i].append(int(cl/30))\n",
    "    print(len(set(dominated_labels[i]))) #, \" \" , set(dominated_labels[i]))"
   ]
  },
  {
   "cell_type": "code",
   "execution_count": null,
   "metadata": {},
   "outputs": [],
   "source": [
    "#client distributing across edge servers\n",
    "1z_rnd_num_client300.part30\n",
    "[7, 11, 15, 13, 15, 5, 13, 4, 15, 11, 10, 7, 12, 7, 8, 8, 9, 9, 6, 7, 10, 15, 11, 9, 8, 13, 11, 10, 12, 9]\n",
    "1z_rnd_num_client300.part40\n",
    "[4, 9, 10, 7, 7, 8, 5, 7, 7, 11, 7, 7, 10, 2, 7, 9, 7, 10, 7, 6, 5, 9, 10, 7, 11, 8, 4, 9, 5, 8, 11, 3, 9, 3, 8, 9, 8, 14, 4, 8]\n",
    "\n",
    "#client distributing across edge servers\n",
    "g_nw_d_euclidean_MLP2_G10_partition_noniid90_nclient300.npy.part.40\n",
    "[8, 7, 7, 7, 8, 8, 8, 7, 8, 7, 8, 8, 7, 7, 8, 8, 8, 7, 7, 8, 7, 8, 8, 7, 7, 8, 8, 7, 8, 7, 8, 8, 7, 7, 7, 8, 8, 7, 7, 7]\n",
    "g_nw_d_euclidean_MLP2_G10_partition_noniid90_nclient300.npy.part.50\n",
    "[6, 6, 6, 6, 6, 6, 6, 6, 6, 6, 6, 6, 6, 6, 6, 6, 6, 6, 6, 6, 6, 6, 6, 6, 6, 6, 6, 6, 6, 6, 6, 6, 6, 6, 6, 6, 6, 6, 6, 6, 6, 6, 6, 6, 6, 6, 6, 6, 6, 6]\n"
   ]
  },
  {
   "cell_type": "code",
   "execution_count": null,
   "metadata": {},
   "outputs": [],
   "source": [
    "#client distributing across edge servers\n",
    "1z_rnd_num_client300.part40\n",
    "[4, 9, 10, 7, 7, 8, 5, 7, 7, 11, 7, 7, 10, 2, 7, 9, 7, 10, 7, 6, 5, 9, 10, 7, 11, 8, 4, 9, 5, 8, 11, 3, 9, 3, 8, 9, 8, 14, 4, 8]\n",
    "g_nw_d_euclidean_MLP2_G10_partition_noniid90_nclient300.npy.part.40\n",
    "[8, 7, 7, 7, 8, 8, 8, 7, 8, 7, 8, 8, 7, 7, 8, 8, 8, 7, 7, 8, 7, 8, 8, 7, 7, 8, 8, 7, 8, 7, 8, 8, 7, 7, 7, 8, 8, 7, 7, 7]"
   ]
  }
 ],
 "metadata": {
  "kernelspec": {
   "display_name": "Python 3",
   "language": "python",
   "name": "python3"
  },
  "language_info": {
   "codemirror_mode": {
    "name": "ipython",
    "version": 3
   },
   "file_extension": ".py",
   "mimetype": "text/x-python",
   "name": "python",
   "nbconvert_exporter": "python",
   "pygments_lexer": "ipython3",
   "version": "3.7.4"
  }
 },
 "nbformat": 4,
 "nbformat_minor": 2
}
