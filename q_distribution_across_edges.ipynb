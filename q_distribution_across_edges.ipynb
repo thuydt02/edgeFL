{
 "cells": [
  {
   "cell_type": "code",
   "execution_count": 55,
   "metadata": {},
   "outputs": [],
   "source": [
    "import numpy as np\n",
    "import pandas as pd\n",
    "import matplotlib.pyplot as plt\n",
    "path_file = \"./output/mnist/z_ass/\""
   ]
  },
  {
   "cell_type": "code",
   "execution_count": 56,
   "metadata": {},
   "outputs": [],
   "source": [
    "q_file = \"q_lognorm_part100.npy\"\n",
    "z_rnd_file = \"1z_rnd_num_client100.part7\"\n",
    "z_metis_vw_file = \"g_vw_q_d_euclidean_partition_noniid-#label2_nclient100.npy.part.7\"\n",
    "z_metis_nw_file = \"g_nw_q_d_euclidean_partition_noniid-#label2_nclient100.npy.part.7\"\n",
    "\n",
    "z_metis_noq_file = \"g_nw_d_euclidean_MLP2_G10_partition_noniid82_nclient100.npy.part.7\"\n",
    "z_metis_q_file = \"g_qw_d_euclidean_MLP2_G10_partition_noniid82_nclient100.npy.part.7\"\n",
    "\n",
    "z_metis15_file = \"g_nw_d_euclidean_MLP2_G10_partition_noniid90_nclient300.npy.part.30\"\n",
    "#z_metis_noq_file2 = \"g_nw_d_euclidean_MLP2_G10_partition_noniid82_#label2_nclient100.npy.part.7\" #actually part2\n",
    "#z_metis_q_file2 = \"g_qw_d_euclidean_MLP2_G10_partition_noniid82_#label2_nclient100.npy.part.7\" #actually part2\n",
    "\n",
    "\n"
   ]
  },
  {
   "cell_type": "code",
   "execution_count": 57,
   "metadata": {},
   "outputs": [
    {
     "ename": "FileNotFoundError",
     "evalue": "[Errno 2] No such file or directory: './output/mnist/z_ass/g_nw_d_euclidean_MLP2_G10_partition_noniid82_nclient300.npy.part.30'",
     "output_type": "error",
     "traceback": [
      "\u001b[0;31m---------------------------------------------------------------------------\u001b[0m",
      "\u001b[0;31mFileNotFoundError\u001b[0m                         Traceback (most recent call last)",
      "\u001b[0;32m<ipython-input-57-a54915e3fcf6>\u001b[0m in \u001b[0;36m<module>\u001b[0;34m\u001b[0m\n\u001b[1;32m     15\u001b[0m \u001b[0mf\u001b[0m\u001b[0;34m.\u001b[0m\u001b[0mclose\u001b[0m\u001b[0;34m(\u001b[0m\u001b[0;34m)\u001b[0m\u001b[0;34m\u001b[0m\u001b[0;34m\u001b[0m\u001b[0m\n\u001b[1;32m     16\u001b[0m \u001b[0;34m\u001b[0m\u001b[0m\n\u001b[0;32m---> 17\u001b[0;31m \u001b[0mf\u001b[0m \u001b[0;34m=\u001b[0m \u001b[0mopen\u001b[0m\u001b[0;34m(\u001b[0m\u001b[0mpath_file\u001b[0m \u001b[0;34m+\u001b[0m \u001b[0mz_metis15_file\u001b[0m\u001b[0;34m,\u001b[0m \u001b[0;34m'r'\u001b[0m\u001b[0;34m)\u001b[0m\u001b[0;34m\u001b[0m\u001b[0;34m\u001b[0m\u001b[0m\n\u001b[0m\u001b[1;32m     18\u001b[0m \u001b[0mz_metis15\u001b[0m \u001b[0;34m=\u001b[0m \u001b[0mnp\u001b[0m\u001b[0;34m.\u001b[0m\u001b[0masarray\u001b[0m\u001b[0;34m(\u001b[0m\u001b[0;34m[\u001b[0m\u001b[0mint\u001b[0m\u001b[0;34m(\u001b[0m\u001b[0mline\u001b[0m\u001b[0;34m.\u001b[0m\u001b[0mstrip\u001b[0m\u001b[0;34m(\u001b[0m\u001b[0;34m)\u001b[0m\u001b[0;34m)\u001b[0m \u001b[0;32mfor\u001b[0m \u001b[0mline\u001b[0m \u001b[0;32min\u001b[0m \u001b[0mf\u001b[0m\u001b[0;34m.\u001b[0m\u001b[0mreadlines\u001b[0m\u001b[0;34m(\u001b[0m\u001b[0;34m)\u001b[0m\u001b[0;34m]\u001b[0m\u001b[0;34m)\u001b[0m\u001b[0;34m\u001b[0m\u001b[0;34m\u001b[0m\u001b[0m\n\u001b[1;32m     19\u001b[0m \u001b[0mf\u001b[0m\u001b[0;34m.\u001b[0m\u001b[0mclose\u001b[0m\u001b[0;34m(\u001b[0m\u001b[0;34m)\u001b[0m\u001b[0;34m\u001b[0m\u001b[0;34m\u001b[0m\u001b[0m\n",
      "\u001b[0;31mFileNotFoundError\u001b[0m: [Errno 2] No such file or directory: './output/mnist/z_ass/g_nw_d_euclidean_MLP2_G10_partition_noniid82_nclient300.npy.part.30'"
     ]
    }
   ],
   "source": [
    "with open(path_file + q_file, 'rb') as f:\n",
    "    q = np.load(f)\n",
    "f.close()\n",
    "\n",
    "f = open(path_file + z_rnd_file, 'r')\n",
    "z_rnd = np.asarray([int(line.strip()) for line in f.readlines()])\n",
    "f.close()\n",
    "\n",
    "f = open(path_file + z_metis_noq_file, 'r')\n",
    "z_metis_noq = np.asarray([int(line.strip()) for line in f.readlines()])\n",
    "f.close()\n",
    "\n",
    "f = open(path_file + z_metis_q_file, 'r')\n",
    "z_metis_q = np.asarray([int(line.strip()) for line in f.readlines()])\n",
    "f.close()\n",
    "\n",
    "f = open(path_file + z_metis15_file, 'r')\n",
    "z_metis15 = np.asarray([int(line.strip()) for line in f.readlines()])\n",
    "f.close()\n",
    "\n",
    "#f = open(path_file + z_metis_noq_file2, 'r')\n",
    "#z_metis_noq2 = np.asarray([int(line.strip()) for line in f.readlines()])\n",
    "#f.close()\n",
    "\n",
    "#f = open(path_file + z_metis_q_file2, 'r')\n",
    "#z_metis_q2 = np.asarray([int(line.strip()) for line in f.readlines()])\n",
    "#f.close()\n",
    "\n",
    "\n"
   ]
  },
  {
   "cell_type": "code",
   "execution_count": null,
   "metadata": {},
   "outputs": [],
   "source": [
    "n = len(z_metis_noq)\n",
    "m = 30\n",
    "edge_metis_noq = np.zeros((m, 2))\n",
    "edge_metis_q = np.zeros((m, 2))\n",
    "edge_rnd = np.zeros((m, 2))\n",
    "\n",
    "\n",
    "#edge_metis_noq2 = np.zeros((m, 2))\n",
    "#edge_metis_q2 = np.zeros((m, 2))\n",
    "\n",
    "rnd_cluster = [[] for i in range(m)]\n",
    "qmetis_cluster = [[] for i in range(m)]\n",
    "noqmetis_cluster = [[] for i in range(m)]\n",
    "metis15_cluster = [[] for i in range(m)]\n",
    "for i in range(n):\n",
    "    edge_rnd[z_rnd[i]][0] += 1\n",
    "    edge_rnd[z_rnd[i]][1] += q[i]\n",
    "    \n",
    "    edge_metis_noq[z_metis_noq[i]][0] += 1\n",
    "    edge_metis_noq[z_metis_noq[i]][1] += q[i]\n",
    "    \n",
    "    edge_metis_q[z_metis_q[i]][0] += 1\n",
    "    edge_metis_q[z_metis_q[i]][1] += q[i]\n",
    "    \n",
    "    #edge_metis_noq2[z_metis_noq2[i]][0] += 1\n",
    "    #edge_metis_noq2[z_metis_noq2[i]][1] += q[i]\n",
    "    \n",
    "    rnd_cluster[z_rnd[i]].append(i)\n",
    "    qmetis_cluster[z_metis_q[i]].append(i)\n",
    "    noqmetis_cluster[z_metis_noq[i]].append(i)\n",
    "    metis15_cluster[z_metis15[i]].append(i)\n",
    "    \n",
    "    #edge_metis_q2[z_metis_q2[i]][0] += 1\n",
    "    #edge_metis_q2[z_metis_q2[i]][1] += q[i]\n",
    " \n",
    " "
   ]
  },
  {
   "cell_type": "code",
   "execution_count": null,
   "metadata": {},
   "outputs": [],
   "source": [
    "#print(edge_rnd[:,0])  \n",
    "print(\"noniid82: q distributing across clusters\")\n",
    "print(\"RND\")\n",
    "print(edge_rnd[:,1]) \n",
    "\n",
    "print(\"metis: no weight vertex, distance\")\n",
    "print(edge_metis_noq[:,1]) \n",
    "\n",
    "print(\"metis: weight vertex = q, distance\")\n",
    "print(edge_metis_q[:,1], \"\\n\") \n",
    "\n",
    "#print(\"noniid_#label2: q distributing across clusters\")\n",
    "#print(\"RND\")\n",
    "#print(edge_rnd[:,1]) \n",
    "\n",
    "#print(\"metis: no weight vertex, distance\")\n",
    "#print(edge_metis_noq2[:,1]) \n",
    "\n",
    "#print(\"metis: weight vertex = q, distance\")\n",
    "#print(edge_metis_q2[:,1]) \n",
    "\n"
   ]
  },
  {
   "cell_type": "code",
   "execution_count": null,
   "metadata": {},
   "outputs": [],
   "source": [
    "print(\"number of clients distributing across clusters\")\n",
    "print(\"RND\")\n",
    "print(rnd_cluster) \n",
    "\n",
    "print(\"metis: no weight vertex, distance\")\n",
    "print(noqmetis_cluster) \n",
    "\n",
    "print(\"metis: weight vertex = q, disance\")\n",
    "print(qmetis_cluster)"
   ]
  },
  {
   "cell_type": "code",
   "execution_count": null,
   "metadata": {},
   "outputs": [],
   "source": [
    "print(\"noniid82: number of clients distributing across clusters\")\n",
    "print(\"RND\")\n",
    "print(edge_rnd[:,0], sum(edge_rnd[:,0])) \n",
    "\n",
    "print(\"metis: no weight vertex, distance\")\n",
    "print(edge_metis_noq[:,0]) \n",
    "\n",
    "print(\"metis: weight vertex = q, distance\")\n",
    "print(edge_metis_q[:,0], \"\\n\") "
   ]
  },
  {
   "cell_type": "code",
   "execution_count": null,
   "metadata": {},
   "outputs": [],
   "source": [
    "fig, ax = plt.subplots(figsize=(13,10))\n",
    "ax.hist(q, bins = 20)\n",
    "plt.show()"
   ]
  },
  {
   "cell_type": "code",
   "execution_count": null,
   "metadata": {},
   "outputs": [],
   "source": [
    "np.mean(q)"
   ]
  },
  {
   "cell_type": "code",
   "execution_count": null,
   "metadata": {},
   "outputs": [],
   "source": [
    "len(q[q<.5])"
   ]
  },
  {
   "cell_type": "code",
   "execution_count": null,
   "metadata": {},
   "outputs": [],
   "source": [
    "len(q[q<.75])"
   ]
  },
  {
   "cell_type": "code",
   "execution_count": null,
   "metadata": {},
   "outputs": [],
   "source": [
    "print([len(metis15_cluster[i]) for i in range(15)])"
   ]
  },
  {
   "cell_type": "code",
   "execution_count": null,
   "metadata": {},
   "outputs": [],
   "source": []
  },
  {
   "cell_type": "code",
   "execution_count": null,
   "metadata": {},
   "outputs": [],
   "source": []
  }
 ],
 "metadata": {
  "kernelspec": {
   "display_name": "Python 3",
   "language": "python",
   "name": "python3"
  },
  "language_info": {
   "codemirror_mode": {
    "name": "ipython",
    "version": 3
   },
   "file_extension": ".py",
   "mimetype": "text/x-python",
   "name": "python",
   "nbconvert_exporter": "python",
   "pygments_lexer": "ipython3",
   "version": "3.7.4"
  }
 },
 "nbformat": 4,
 "nbformat_minor": 2
}
