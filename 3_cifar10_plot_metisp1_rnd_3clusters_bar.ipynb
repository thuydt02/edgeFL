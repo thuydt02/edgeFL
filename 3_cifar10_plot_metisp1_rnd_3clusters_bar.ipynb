{
 "cells": [
  {
   "cell_type": "code",
   "execution_count": 7,
   "metadata": {},
   "outputs": [],
   "source": [
    "import numpy as np\n",
    "import pandas as pd\n",
    "import matplotlib.pyplot as plt\n",
    "path_file_L10E2 = \"./output/cifar10/acc/noniid/L10E2/\"\n",
    "path_file_L20E5 = \"./output/cifar10/acc/noniid/L20E5/\"\n"
   ]
  },
  {
   "cell_type": "code",
   "execution_count": 8,
   "metadata": {},
   "outputs": [],
   "source": [
    "#reading files\n",
    "metisp1_files_L10E2 = [\n",
    "    \"eFL_CNN2_dr10lr0.15_dc0.99_B20_L10_E2_G5000_g_nw_d_minkowski_p1.0_CNN2_G10_partition_noniid90_nclient300.npy.part.10.weight.pth.acc.csv\",\n",
    "    \"eFL_CNN2_dr10lr0.15_dc0.99_B20_L10_E2_G5000_g_nw_d_minkowski_p1.0_CNN2_G10_partition_noniid90_nclient300.npy.part.20.weight.pth.acc.csv\",\n",
    "    \"eFL_CNN2_dr10lr0.15_dc0.99_B20_L10_E2_G5000_g_nw_d_minkowski_p1.0_CNN2_G10_partition_noniid90_nclient300.npy.part.30.weight.pth.acc.csv\"\n",
    "]\n",
    "\n",
    "metisp1_files_L20E5 = [\n",
    "    \"eFL_CNN2_dr10lr0.15_dc0.99_B20_L20_E5_G5000_g_nw_d_minkowski_p1.0_CNN2_G10_partition_noniid90_nclient300.npy.part.10.weight.pth.acc.csv\",\n",
    "    \"eFL_CNN2_dr10lr0.15_dc0.99_B20_L20_E5_G5000_g_nw_d_minkowski_p1.0_CNN2_G10_partition_noniid90_nclient300.npy.part.20.weight.pth.acc.csv\",\n",
    "    \"eFL_CNN2_dr10lr0.15_dc0.99_B20_L20_E5_G5000_g_nw_d_minkowski_p1.0_CNN2_G10_partition_noniid90_nclient300.npy.part.30.weight.pth.acc.csv\"\n",
    "]\n",
    "\n",
    "rnd_files_L10E2 = [\n",
    "    \"eFL_CNN2_dr10lr0.15_dc0.99_B20_L10_E2_G5000_avg5z_rnd_num_client300.part10_partition_noniid90_nclient300.npy.weight.pth.acc.csv\",\n",
    "    \"eFL_CNN2_dr10lr0.15_dc0.99_B20_L10_E2_G5000_avg10z_rnd_num_client300.part20_partition_noniid90_nclient300.npy.weight.pth.acc.csv\",\n",
    "    \"eFL_CNN2_dr10lr0.15_dc0.99_B20_L10_E2_G5000_avg10z_rnd_num_client300.part30_partition_noniid90_nclient300.npy.weight.pth.acc.csv\"\n",
    "]\n",
    "\n",
    "rnd_files_L20E5 = [\n",
    "    \"eFL_CNN2_dr10lr0.15_dc0.99_B20_L20_E5_G5000_avg5z_rnd_num_client300.part10_partition_noniid90_nclient300.npy.weight.pth.acc.csv\",\n",
    "    \"eFL_CNN2_dr10lr0.15_dc0.99_B20_L20_E5_G5000_avg10z_rnd_num_client300.part20_partition_noniid90_nclient300.npy.weight.pth.acc.csv\",\n",
    "    \"eFL_CNN2_dr10lr0.15_dc0.99_B20_L20_E5_G5000_avg10z_rnd_num_client300.part30_partition_noniid90_nclient300.npy.weight.pth.acc.csv\"\n",
    "]\n",
    "\n",
    "\n",
    "#metisp1_dfs_L10E2 = []\n",
    "#metisp1_dfs_L20E5 = []\n",
    "#rnd_dfs_L10E2 = []\n",
    "#rnd_dfs_L20E5 = []\n",
    "\n",
    "n_metisp1_files_L10E2 = len(metisp1_files_L10E2)\n",
    "n_metisp1_files_L20E5 = len(metisp1_files_L20E5)\n",
    "n_rnd_files_L10E2 = len(rnd_files_L10E2)\n",
    "n_rnd_files_L20E5 = len(rnd_files_L20E5)\n",
    "\n",
    "metisp1_max_test_acc_L10E2 = []\n",
    "metisp1_max_test_acc_L20E5 = []\n",
    "rnd_max_test_acc_L10E2 = []\n",
    "rnd_max_test_acc_L20E5 = []\n",
    "\n",
    "for i in range(n_metisp1_files_L10E2):\n",
    "    #metisp1_dfs_L10E2.append(pd.read_csv(path_file_L10E2 + metisp1_files_L10E2[i]))\n",
    "    df  = pd.read_csv(path_file_L10E2 + metisp1_files_L10E2[i])\n",
    "    metisp1_max_test_acc_L10E2.append(max(df.test_acc))\n",
    "\n",
    "for i in range(n_metisp1_files_L20E5):\n",
    "    #metisp1_dfs_L10E2.append(pd.read_csv(path_file_L20E5 + metisp1_files_L20E5[i]))\n",
    "    df  = pd.read_csv(path_file_L20E5 + metisp1_files_L20E5[i])\n",
    "    metisp1_max_test_acc_L20E5.append(max(df.test_acc))\n",
    "\n",
    "for i in range(n_rnd_files_L10E2):\n",
    "    #rnd_dfs.append(pd.read_csv(path_file_L10E2 + rnd_files_L10E2[i]))\n",
    "    df  = pd.read_csv(path_file_L10E2 + rnd_files_L10E2[i])\n",
    "    rnd_max_test_acc_L10E2.append(max(df.test_acc))\n",
    "\n",
    "for i in range(n_rnd_files_L20E5):\n",
    "    #rnd_dfs.append(pd.read_csv(path_file_L20E5 + rnd_files_L20E5[i]))\n",
    "    df  = pd.read_csv(path_file_L20E5 + rnd_files_L20E5[i])\n",
    "    rnd_max_test_acc_L20E5.append(max(df.test_acc))\n",
    "\n",
    "\n",
    "\n"
   ]
  },
  {
   "cell_type": "code",
   "execution_count": null,
   "metadata": {},
   "outputs": [],
   "source": [
    "#plot radar chart\n"
   ]
  },
  {
   "cell_type": "code",
   "execution_count": 13,
   "metadata": {},
   "outputs": [
    {
     "data": {
      "image/png": "[encoded data removed]",
      "text/plain": [
       "<Figure size 1080x432 with 2 Axes>"
      ]
     },
     "metadata": {
      "needs_background": "light"
     },
     "output_type": "display_data"
    }
   ],
   "source": [
    "#plot\n",
    "line_color = [\"#0e6787\", \"#ad85ab\", \"#f0bca5\"]\n",
    "lbl_cluster = [\"#edge_servers = 10\", \"#edge_servers = 20\", \"#edge_servers = 30\"]\n",
    "\n",
    "\n",
    "x = np.arange(len(lbl_cluster))  # the label locations\n",
    "width = 0.3  # the width of the bars\n",
    "\n",
    "fig, ax = plt.subplots(figsize=(15,6), ncols=2)\n",
    "\n",
    "rects1 = ax[0].bar(x - width/2, metisp1_max_test_acc_L10E2, width, label='eFL_metis', color = line_color[0])\n",
    "rects2 = ax[0].bar(x + width/2, rnd_max_test_acc_L10E2, width, label='eFL_rnd', color = line_color[2])\n",
    "\n",
    "rects3 = ax[1].bar(x - width/2, metisp1_max_test_acc_L20E5, width, label='eFL_metis', color = line_color[0])\n",
    "rects4 = ax[1].bar(x + width/2, rnd_max_test_acc_L20E5, width, label='eFL_rnd', color = line_color[2])\n",
    "    \n",
    "    \n",
    "ax[0].set_ylabel(\"Test Accuracy (%)\",  size = 15)\n",
    "ax[0].set_xticks(x)\n",
    "ax[0].set_xticklabels(lbl_cluster, size = 20)\n",
    "ax[0].set_xlabel(\"CIFAR10: L = 10, E = 2\", size = 30)\n",
    "ax[0].legend(loc = 'best', fontsize=15)\n",
    "ax[0].tick_params(labelsize=15)\n",
    "\n",
    "ax[1].set_ylabel(\"Test Accuracy (%)\", size = 15)\n",
    "ax[1].set_xticks(x)\n",
    "ax[1].set_xticklabels(lbl_cluster, size =20)\n",
    "ax[1].set_xlabel(\"CIFAR10: L = 20, E = 5\", size = 30)\n",
    "ax[1].legend(loc = 'best', fontsize=15)\n",
    "ax[1].yaxis.set_ticks_position(\"right\")\n",
    "ax[1].yaxis.set_label_position(\"right\")\n",
    "ax[1].tick_params(labelsize=15)\n",
    "\n",
    "for i in range(2):\n",
    "\n",
    "    right_side = ax[i].spines[\"right\"]\n",
    "    right_side.set_visible(False)\n",
    "\n",
    "    left_side = ax[i].spines[\"left\"]\n",
    "    left_side.set_visible(False)\n",
    "\n",
    "    top_side = ax[i].spines[\"top\"]\n",
    "    top_side.set_visible(False)\n",
    "    #ax[i].grid(True, which='major', axis='y')\n",
    "#plt.yticks(fontsize = 15)\n",
    "#plt.rc('ytick',labelsize=15)\n",
    "fig.tight_layout()  # otherwise the right y-label is slightly clipped\n",
    "plt.show()\n",
    "plt.show()"
   ]
  },
  {
   "cell_type": "code",
   "execution_count": 10,
   "metadata": {},
   "outputs": [],
   "source": [
    "#plot\n"
   ]
  },
  {
   "cell_type": "code",
   "execution_count": null,
   "metadata": {},
   "outputs": [],
   "source": []
  }
 ],
 "metadata": {
  "kernelspec": {
   "display_name": "Python 3",
   "language": "python",
   "name": "python3"
  },
  "language_info": {
   "codemirror_mode": {
    "name": "ipython",
    "version": 3
   },
   "file_extension": ".py",
   "mimetype": "text/x-python",
   "name": "python",
   "nbconvert_exporter": "python",
   "pygments_lexer": "ipython3",
   "version": "3.7.4"
  }
 },
 "nbformat": 4,
 "nbformat_minor": 2
}
