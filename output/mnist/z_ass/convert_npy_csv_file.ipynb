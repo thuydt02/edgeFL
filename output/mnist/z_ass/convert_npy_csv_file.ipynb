{
 "cells": [
  {
   "cell_type": "code",
   "execution_count": 4,
   "metadata": {},
   "outputs": [
    {
     "name": "stdout",
     "output_type": "stream",
     "text": [
      "   Unnamed: 0        pc1        pc2\n",
      "0           0 -10.075938 -60.690376\n",
      "1           1   4.459901 -65.745560\n",
      "2           2 -20.359344 -62.206715\n",
      "3           3 -27.254100 -45.409210\n",
      "4           4 -14.274284 -77.081320\n"
     ]
    }
   ],
   "source": [
    "import pandas as pd\n",
    "import numpy as np\n",
    "\n",
    "path = \"./\"\n",
    "fname_npy = path + 'wPCA_MLP2_G10_partition_noniid90_nclient300.npy'\n",
    "fname_csv = path + \"wPCA_MLP2_G10_partition_noniid90_nclient300.csv\"\n",
    "a = pd.read_csv(fname_npy)\n",
    "\n",
    "print(a[0:5])\n"
   ]
  },
  {
   "cell_type": "code",
   "execution_count": null,
   "metadata": {},
   "outputs": [],
   "source": []
  }
 ],
 "metadata": {
  "kernelspec": {
   "display_name": "Python 3",
   "language": "python",
   "name": "python3"
  },
  "language_info": {
   "codemirror_mode": {
    "name": "ipython",
    "version": 3
   },
   "file_extension": ".py",
   "mimetype": "text/x-python",
   "name": "python",
   "nbconvert_exporter": "python",
   "pygments_lexer": "ipython3",
   "version": "3.7.4"
  }
 },
 "nbformat": 4,
 "nbformat_minor": 2
}
