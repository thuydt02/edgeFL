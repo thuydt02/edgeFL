{
 "cells": [
  {
   "cell_type": "code",
   "execution_count": 28,
   "metadata": {},
   "outputs": [],
   "source": [
    "from sklearn.neighbors import kneighbors_graph\n",
    "from sklearn.neighbors import NearestNeighbors\n",
    "import pandas as pd\n",
    "import matplotlib.pyplot as plt\n",
    "import numpy as np\n",
    "import sys\n",
    "import os"
   ]
  },
  {
   "cell_type": "code",
   "execution_count": 29,
   "metadata": {},
   "outputs": [],
   "source": [
    "class Graph():\n",
    " \n",
    "    def __init__(self, vertices):\n",
    "        self.V = vertices\n",
    "        self.graph = [[0 for column in range(vertices)]\n",
    "                      for row in range(vertices)]\n",
    " \n",
    "    def printSolution(self, dist):\n",
    "        print(\"Vertex tDistance from Source\")\n",
    "        for node in range(self.V):\n",
    "            print(node, \"t\", dist[node])\n",
    " \n",
    "    # A utility function to find the vertex with\n",
    "    # minimum distance value, from the set of vertices\n",
    "    # not yet included in shortest path tree\n",
    "    def minDistance(self, dist, sptSet):\n",
    " \n",
    "        # Initilaize minimum distance for next node\n",
    "        min = sys.maxsize\n",
    " \n",
    "        # Search not nearest vertex not in the\n",
    "        # shortest path tree\n",
    "        for v in range(self.V):\n",
    "            if dist[v] < min and sptSet[v] == False:\n",
    "                min = dist[v]\n",
    "                min_index = v\n",
    " \n",
    "        return min_index\n",
    " \n",
    "    # Funtion that implements Dijkstra's single source\n",
    "    # shortest path algorithm for a graph represented\n",
    "    # using adjacency matrix representation\n",
    "    def dijkstra(self, src):\n",
    " \n",
    "        dist = [sys.maxsize] * self.V\n",
    "        dist[src] = 0\n",
    "        sptSet = [False] * self.V\n",
    " \n",
    "        for cout in range(self.V):\n",
    " \n",
    "            # Pick the minimum distance vertex from\n",
    "            # the set of vertices not yet processed.\n",
    "            # u is always equal to src in first iteration\n",
    "            u = self.minDistance(dist, sptSet)\n",
    " \n",
    "            # Put the minimum distance vertex in the\n",
    "            # shotest path tree\n",
    "            sptSet[u] = True\n",
    " \n",
    "            # Update dist value of the adjacent vertices\n",
    "            # of the picked vertex only if the current\n",
    "            # distance is greater than new distance and\n",
    "            # the vertex in not in the shotest path tree\n",
    "            for v in range(self.V):\n",
    "                if (self.graph[u][v] > 0) and (sptSet[v] == False) and (dist[v] > dist[u] + self.graph[u][v]):\n",
    "                    dist[v] = dist[u] + self.graph[u][v]\n",
    " \n",
    "        return dist\n",
    "\n",
    "def get_topk(a, k):\n",
    "    # return the indices of top k largest values in array a\n",
    "    #return a.argsort()[-k:]\n",
    "    return np.argpartition(a, -k)[-k:]\n",
    "\n",
    "def get_kneighbor_graph(d, k):\n",
    "    #return a adj matrix with 0 and 1 representing a graph\n",
    "    #d: distant matrix\n",
    "    # edge(u,v) = 1 if the distance from u to v is in the top k largest distances from u\n",
    "    # the returned matrix is symmetric\n",
    "    V = len(d)\n",
    "    a = np.zeros((V,V), dtype=int)\n",
    "    for u in range(V):\n",
    "        kneighbor = get_topk(d[u], k)\n",
    "        for v in kneighbor:\n",
    "            a[u][v] = 1\n",
    "    for i in range(V):\n",
    "        for j in range(i +1, V):\n",
    "            if a[i][j] != 0:\n",
    "                a[j][i] = a[i][j]\n",
    "            if a[j][i] != 0:\n",
    "                a[i][j] = a[j][i]\n",
    "    return a\n",
    "\n",
    "def get_adj_matrix_of_graph(d, k0):\n",
    "#return an adj matrix of a connected graph\n",
    "    k = k0\n",
    "    n_nodes = len(d)\n",
    "    g = Graph(n_nodes)\n",
    "    while True:    \n",
    "        A = get_kneighbor_graph(d,k)\n",
    "        B = A.copy()\n",
    "        B[B == 0] = n_nodes\n",
    "        g.graph = B\n",
    "        \n",
    "        #checking connectivity of the graph\n",
    "        found = False\n",
    "        \n",
    "        for i in range(n_nodes):\n",
    "            dist = g.dijkstra(i)\n",
    "            \n",
    "            if np.max(dist) >= n_nodes:\n",
    "                found = True\n",
    "                break # the graph is not connected\n",
    "                \n",
    "        if not found: # the graph is connected\n",
    "            return k, A\n",
    "        else:\n",
    "            k += 1\n",
    "        if k== n_nodes:\n",
    "            return k, None\n",
    "\n",
    "        \n",
    "def create_METISgraph_file(d_file, cl_data_size_fname):\n",
    "    z_dir = \"./z_ass/\"\n",
    "\n",
    "    print(\"creating a graph file for METIS...\")\n",
    "\n",
    "    if not os.path.exists(z_dir):\n",
    "        os.makedirs(z_dir)\n",
    "    \n",
    "    d = pd.read_csv(z_dir + d_file, index_col=False, header=None).to_numpy()\n",
    "    cl_data_size = pd.read_csv(z_dir + cl_data_size_fname, header=None).to_numpy()\n",
    "    \n",
    "    n_nodes = len(d)\n",
    "    print (\"n_nodes, n_clients: \", n_nodes, \", \", len(cl_data_size))\n",
    "    \n",
    "    k, A = get_adj_matrix_of_graph(d, 5)\n",
    "    \n",
    "    \n",
    "    if k >= n_nodes:\n",
    "        print(\"Cannot create a connected graph!\")\n",
    "        exit()\n",
    "    \n",
    "    num_edges = np.sum(A) / 2\n",
    "    \n",
    "    header = str(n_nodes) + \" \" + str(int(num_edges)) + \" 011\\n\"\n",
    "\n",
    "    fname = \"g_no_vw_knn\" + str(k) + \"_\" + d_file\n",
    "\n",
    "    with open(z_dir + fname, 'w') as the_file:\n",
    "        the_file.write(header)\n",
    "\n",
    "    for i in range (n_nodes):\n",
    "\n",
    "        i_prime = i + 1\n",
    "        #a_line = str(cl_data_size[i][0])\n",
    "        a_line = str(1)\n",
    "        for j in range (n_nodes):\n",
    "            j_prime = j + 1\n",
    "            if j_prime == i_prime:\n",
    "                continue\n",
    "            if A[i][j] == 1:\n",
    "                a_line = a_line + \" \" + str(j_prime) + \" \" + str(int(A[i][j]))\n",
    "\n",
    "        a_line = a_line + \"\\n\"\n",
    "        with open(z_dir + fname, 'a') as the_file:\n",
    "            the_file.write(a_line)\n",
    "\n",
    "    the_file.close()\n",
    "    print(\"saved graph in file: \" + z_dir + fname)\n",
    "    return k, A"
   ]
  },
  {
   "cell_type": "code",
   "execution_count": 30,
   "metadata": {},
   "outputs": [
    {
     "name": "stdout",
     "output_type": "stream",
     "text": [
      "creating a graph file for METIS...\n",
      "n_nodes, n_clients:  50 ,  50\n",
      "saved graph in file: ./z_ass/g_no_vw_knn5_d_euclidean_CNN_P1.6m_B10_L20_non_iid_zipfz0.7\n"
     ]
    }
   ],
   "source": [
    "#main\n",
    "d_fname = \"d_euclidean_CNN_P1.6m_B10_L20_non_iid_zipfz0.7\"\n",
    "cl_data_size_fname = \"client_data_size_CNN_P1.6m_B10_non_iidzipfz0.7\"\n",
    "k, A = create_METISgraph_file(d_fname, cl_data_size_fname)\n"
   ]
  },
  {
   "cell_type": "code",
   "execution_count": 8,
   "metadata": {},
   "outputs": [
    {
     "data": {
      "text/plain": [
       "1"
      ]
     },
     "execution_count": 8,
     "metadata": {},
     "output_type": "execute_result"
    }
   ],
   "source": [
    "k"
   ]
  },
  {
   "cell_type": "code",
   "execution_count": 102,
   "metadata": {},
   "outputs": [
    {
     "name": "stdout",
     "output_type": "stream",
     "text": [
      "k  1\n",
      "B  [[4 4 4 1]\n",
      " [4 4 1 4]\n",
      " [4 1 4 4]\n",
      " [1 4 4 4]]\n",
      "i, dist  0 [0, 4, 4, 1]\n",
      "k  2\n",
      "B  [[4 4 1 1]\n",
      " [4 4 1 1]\n",
      " [1 1 4 4]\n",
      " [1 1 4 4]]\n",
      "i, dist  0 [0, 2, 1, 1]\n",
      "i, dist  1 [2, 0, 1, 1]\n",
      "i, dist  2 [1, 1, 0, 2]\n",
      "i, dist  3 [1, 1, 2, 0]\n",
      "2\n",
      "[[0 0 1 1]\n",
      " [0 0 1 1]\n",
      " [1 1 0 0]\n",
      " [1 1 0 0]]\n"
     ]
    }
   ],
   "source": [
    "d = np.array([[0, 3, 4, 5], [3, 0, 5, 4], [4, 5, 0, 3], [5, 4, 3, 0]])\n",
    "k, A = get_adj_matrix_of_graph(d, 1)\n",
    "print(k)\n",
    "print(A)"
   ]
  },
  {
   "cell_type": "code",
   "execution_count": null,
   "metadata": {},
   "outputs": [],
   "source": []
  },
  {
   "cell_type": "code",
   "execution_count": 104,
   "metadata": {},
   "outputs": [
    {
     "data": {
      "text/plain": [
       "8"
      ]
     },
     "execution_count": 104,
     "metadata": {},
     "output_type": "execute_result"
    }
   ],
   "source": [
    "a = np.asarray([[0, 0, 1, 1],\n",
    " [0, 0, 1, 1],\n",
    " [1, 1, 0, 0],\n",
    " [1, 1, 0, 0]])\n",
    "np.sum(a)"
   ]
  },
  {
   "cell_type": "code",
   "execution_count": 61,
   "metadata": {},
   "outputs": [
    {
     "data": {
      "text/plain": [
       "array([[ 0.        ,  1.01      ,  0.        ,  0.        ,  0.        ,\n",
       "         0.        ,  0.        ],\n",
       "       [ 1.01      ,  0.        ,  0.        ,  0.        ,  0.        ,\n",
       "         0.        ,  0.        ],\n",
       "       [ 0.        ,  1.40716026,  0.        ,  0.        ,  0.        ,\n",
       "         0.        ,  0.        ],\n",
       "       [ 0.        ,  5.38145891,  0.        ,  0.        ,  0.        ,\n",
       "         0.        ,  0.        ],\n",
       "       [ 0.        ,  0.        ,  0.        ,  0.        ,  0.        ,\n",
       "         1.        ,  0.        ],\n",
       "       [ 0.        ,  0.        ,  0.        ,  0.        ,  1.        ,\n",
       "         0.        ,  0.        ],\n",
       "       [ 0.        ,  0.        ,  0.        ,  0.        , 12.        ,\n",
       "         0.        ,  0.        ]])"
      ]
     },
     "execution_count": 61,
     "metadata": {},
     "output_type": "execute_result"
    }
   ],
   "source": [
    "X = [[0, 4, 3, 5], [4, 0, 5, 3], [3, 5, 0, 4], [5, 3, 4, 0]]\n",
    "X = np.array([[0, 1], [1.01, 1.], [2, 0], [3, 6], [9, 8], [10, 8], [9,20]])\n",
    "\n",
    "neigh = NearestNeighbors(n_neighbors=2)\n",
    "neigh.fit(X)\n",
    "#NearestNeighbors(n_neighbors=2)\n",
    "\n",
    "A = neigh.kneighbors_graph(X, 2, mode='distance')\n",
    "A.toarray()"
   ]
  },
  {
   "cell_type": "code",
   "execution_count": 62,
   "metadata": {},
   "outputs": [
    {
     "data": {
      "text/plain": [
       "array([[ 0.        ,  1.01      ,  2.23606798,  0.        ,  0.        ,\n",
       "         0.        ,  0.        ],\n",
       "       [ 1.01      ,  0.        ,  1.40716026,  0.        ,  0.        ,\n",
       "         0.        ,  0.        ],\n",
       "       [ 2.23606798,  1.40716026,  0.        ,  0.        ,  0.        ,\n",
       "         0.        ,  0.        ],\n",
       "       [ 5.83095189,  5.38145891,  0.        ,  0.        ,  0.        ,\n",
       "         0.        ,  0.        ],\n",
       "       [ 0.        ,  0.        ,  0.        ,  6.32455532,  0.        ,\n",
       "         1.        ,  0.        ],\n",
       "       [ 0.        ,  0.        ,  0.        ,  7.28010989,  1.        ,\n",
       "         0.        ,  0.        ],\n",
       "       [ 0.        ,  0.        ,  0.        ,  0.        , 12.        ,\n",
       "        12.04159458,  0.        ]])"
      ]
     },
     "execution_count": 62,
     "metadata": {},
     "output_type": "execute_result"
    }
   ],
   "source": [
    "A = kneighbors_graph(X, 2, mode='distance', include_self=False)\n",
    "A.toarray()"
   ]
  },
  {
   "cell_type": "code",
   "execution_count": 19,
   "metadata": {},
   "outputs": [
    {
     "name": "stdout",
     "output_type": "stream",
     "text": [
      "Vertex tDistance from Source\n",
      "0 t 0\n",
      "1 t 1\n",
      "2 t 5\n",
      "3 t 2\n"
     ]
    }
   ],
   "source": [
    "# Python program for Dijkstra's single\n",
    "# source shortest path algorithm. The program is\n",
    "# for adjacency matrix representation of the graph\n",
    " \n",
    "# Library for INT_MAX\n",
    "import sys\n",
    " \n",
    "class Graph():\n",
    " \n",
    "    def __init__(self, vertices):\n",
    "        self.V = vertices\n",
    "        self.graph = [[0 for column in range(vertices)]\n",
    "                      for row in range(vertices)]\n",
    " \n",
    "    def printSolution(self, dist):\n",
    "        print(\"Vertex tDistance from Source\")\n",
    "        for node in range(self.V):\n",
    "            print(node, \"t\", dist[node])\n",
    " \n",
    "    # A utility function to find the vertex with\n",
    "    # minimum distance value, from the set of vertices\n",
    "    # not yet included in shortest path tree\n",
    "    def minDistance(self, dist, sptSet):\n",
    " \n",
    "        # Initilaize minimum distance for next node\n",
    "        min = sys.maxsize\n",
    " \n",
    "        # Search not nearest vertex not in the\n",
    "        # shortest path tree\n",
    "        for v in range(self.V):\n",
    "            if dist[v] < min and sptSet[v] == False:\n",
    "                min = dist[v]\n",
    "                min_index = v\n",
    " \n",
    "        return min_index\n",
    " \n",
    "    # Funtion that implements Dijkstra's single source\n",
    "    # shortest path algorithm for a graph represented\n",
    "    # using adjacency matrix representation\n",
    "    def dijkstra(self, src):\n",
    " \n",
    "        dist = [sys.maxsize] * self.V\n",
    "        dist[src] = 0\n",
    "        sptSet = [False] * self.V\n",
    " \n",
    "        for cout in range(self.V):\n",
    " \n",
    "            # Pick the minimum distance vertex from\n",
    "            # the set of vertices not yet processed.\n",
    "            # u is always equal to src in first iteration\n",
    "            u = self.minDistance(dist, sptSet)\n",
    " \n",
    "            # Put the minimum distance vertex in the\n",
    "            # shotest path tree\n",
    "            sptSet[u] = True\n",
    " \n",
    "            # Update dist value of the adjacent vertices\n",
    "            # of the picked vertex only if the current\n",
    "            # distance is greater than new distance and\n",
    "            # the vertex in not in the shotest path tree\n",
    "            for v in range(self.V):\n",
    "                if (self.graph[u][v] > 0) and (sptSet[v] == False) and (dist[v] > dist[u] + self.graph[u][v]):\n",
    "                    dist[v] = dist[u] + self.graph[u][v]\n",
    " \n",
    "        return dist\n",
    "        #self.printSolution(dist)\n",
    " \n",
    " \n",
    "# Driver program\n",
    "g = Graph(4)\n",
    "g.graph = [[0, 1, 5, 5],[1,0,5,1],[5,5,0,5],[5,1,5,0]]\n",
    "g.dijkstra(0)\n",
    " "
   ]
  },
  {
   "cell_type": "code",
   "execution_count": 47,
   "metadata": {},
   "outputs": [],
   "source": [
    "d = pd.read_csv(\"./z_ass/d_euclidean_MLP2_B10_L200_non_iid_zipfz0.7\")\n",
    "cl_data_size = pd.read_csv(\"./z_ass/client_data_size_MLP2_B10_non_iidzipfz0.7\")"
   ]
  },
  {
   "cell_type": "code",
   "execution_count": 48,
   "metadata": {},
   "outputs": [
    {
     "data": {
      "text/plain": [
       "array([[99.        , 99.        , 53.25149689, ..., 55.49250104,\n",
       "        55.63961572, 55.51368946],\n",
       "       [98.        , 53.25149689, 99.        , ..., 83.53824091,\n",
       "        83.47237176, 83.54756917],\n",
       "       [97.        , 55.63301446, 83.87808133, ..., 94.47277716,\n",
       "        93.77537274, 94.84202577],\n",
       "       ...,\n",
       "       [ 2.        , 55.49250104, 83.53824091, ..., 99.        ,\n",
       "        94.33274411, 95.29361813],\n",
       "       [ 1.        , 55.63961572, 83.47237176, ..., 94.33274411,\n",
       "        99.        , 94.44774011],\n",
       "       [ 0.        , 55.51368946, 83.54756917, ..., 95.29361813,\n",
       "        94.44774011, 99.        ]])"
      ]
     },
     "execution_count": 48,
     "metadata": {},
     "output_type": "execute_result"
    }
   ],
   "source": [
    "reverse_d = d.to_numpy()\n",
    "reverse_d = np.max(reverse_d) - reverse_d\n",
    "reverse_d"
   ]
  },
  {
   "cell_type": "code",
   "execution_count": 49,
   "metadata": {},
   "outputs": [
    {
     "data": {
      "text/plain": [
       "array([[0., 0., 0., ..., 0., 0., 0.],\n",
       "       [0., 0., 0., ..., 0., 0., 0.],\n",
       "       [0., 0., 0., ..., 0., 0., 0.],\n",
       "       ...,\n",
       "       [0., 0., 0., ..., 0., 0., 1.],\n",
       "       [0., 0., 0., ..., 1., 0., 1.],\n",
       "       [0., 0., 0., ..., 1., 0., 0.]])"
      ]
     },
     "execution_count": 49,
     "metadata": {},
     "output_type": "execute_result"
    }
   ],
   "source": [
    "A = kneighbors_graph(reverse_d, 5, mode='connectivity', include_self=False)\n",
    "A.toarray()"
   ]
  },
  {
   "cell_type": "code",
   "execution_count": 45,
   "metadata": {},
   "outputs": [
    {
     "name": "stdout",
     "output_type": "stream",
     "text": [
      "  (0, 0)\t1000\n",
      "  (0, 1)\t1000\n",
      "  (0, 2)\t1000\n",
      "  (0, 3)\t1\n",
      "  (0, 4)\t1000\n",
      "  (0, 5)\t1000\n",
      "  (0, 6)\t1\n",
      "  (0, 7)\t1000\n",
      "  (0, 8)\t1000\n",
      "  (0, 9)\t1000\n",
      "  (0, 10)\t1000\n",
      "  (0, 11)\t1000\n",
      "  (0, 12)\t1\n",
      "  (0, 13)\t1000\n",
      "  (0, 14)\t1000\n",
      "  (0, 15)\t1000\n",
      "  (0, 16)\t1000\n",
      "  (0, 17)\t1000\n",
      "  (0, 18)\t1000\n",
      "  (0, 19)\t1\n",
      "  (0, 20)\t1000\n",
      "  (0, 21)\t1000\n",
      "  (0, 22)\t1000\n",
      "  (0, 23)\t1000\n",
      "  (0, 24)\t1000\n",
      "  :\t:\n",
      "  (99, 75)\t1000\n",
      "  (99, 76)\t1000\n",
      "  (99, 77)\t1000\n",
      "  (99, 78)\t1000\n",
      "  (99, 79)\t1000\n",
      "  (99, 80)\t1000\n",
      "  (99, 81)\t1000\n",
      "  (99, 82)\t1000\n",
      "  (99, 83)\t1000\n",
      "  (99, 84)\t1000\n",
      "  (99, 85)\t1000\n",
      "  (99, 86)\t1000\n",
      "  (99, 87)\t1000\n",
      "  (99, 88)\t1000\n",
      "  (99, 89)\t1000\n",
      "  (99, 90)\t1000\n",
      "  (99, 91)\t1000\n",
      "  (99, 92)\t1\n",
      "  (99, 93)\t1000\n",
      "  (99, 94)\t1\n",
      "  (99, 95)\t1\n",
      "  (99, 96)\t1\n",
      "  (99, 97)\t1\n",
      "  (99, 98)\t1000\n",
      "  (99, 99)\t1000\n"
     ]
    },
    {
     "name": "stderr",
     "output_type": "stream",
     "text": [
      "/opt/anaconda3/lib/python3.7/site-packages/IPython/core/interactiveshell.py:3326: SparseEfficiencyWarning: Comparing a sparse matrix with 0 using == is inefficient, try using != instead.\n",
      "  exec(code_obj, self.user_global_ns, self.user_ns)\n",
      "/opt/anaconda3/lib/python3.7/site-packages/scipy/sparse/_index.py:127: SparseEfficiencyWarning: Changing the sparsity structure of a csr_matrix is expensive. lil_matrix is more efficient.\n",
      "  self._set_arrayXarray(i, j, x)\n"
     ]
    }
   ],
   "source": [
    "#A = A.astype(int)\n",
    "#A[A == 0] = 1000\n",
    "#print (A)"
   ]
  },
  {
   "cell_type": "code",
   "execution_count": 40,
   "metadata": {},
   "outputs": [
    {
     "name": "stdout",
     "output_type": "stream",
     "text": [
      "500.0\n"
     ]
    }
   ],
   "source": [
    "print (np.sum(A))"
   ]
  },
  {
   "cell_type": "code",
   "execution_count": 50,
   "metadata": {},
   "outputs": [
    {
     "name": "stdout",
     "output_type": "stream",
     "text": [
      "  (0, 3)\t1\n",
      "  (0, 6)\t1\n",
      "  (0, 12)\t1\n",
      "  (0, 19)\t1\n",
      "  (0, 40)\t1\n"
     ]
    }
   ],
   "source": [
    "A = A.astype(int)\n",
    "print(A[0][0:10])"
   ]
  },
  {
   "cell_type": "code",
   "execution_count": 52,
   "metadata": {},
   "outputs": [
    {
     "name": "stdout",
     "output_type": "stream",
     "text": [
      "  (0, 0)\t1\n",
      "  (0, 19)\t1\n",
      "  (0, 28)\t1\n",
      "  (0, 40)\t1\n",
      "  (0, 57)\t1\n"
     ]
    }
   ],
   "source": [
    "print(A[3][0:10])"
   ]
  },
  {
   "cell_type": "code",
   "execution_count": 42,
   "metadata": {},
   "outputs": [
    {
     "data": {
      "text/plain": [
       "<100x100 sparse matrix of type '<class 'numpy.float64'>'\n",
       "\twith 500 stored elements in Compressed Sparse Row format>"
      ]
     },
     "execution_count": 42,
     "metadata": {},
     "output_type": "execute_result"
    }
   ],
   "source": [
    "g = Graph(100)\n",
    "g.graph = A\n",
    "g.dijkstra(0)\n"
   ]
  },
  {
   "cell_type": "code",
   "execution_count": null,
   "metadata": {},
   "outputs": [],
   "source": [
    "def get_adj_matrix_of_graph(d)\n",
    "    k = 3\n",
    "    n_nodes = 100\n",
    "    g = Graph(n_nodes)\n",
    "    while True:    \n",
    "        A = kneighbors_graph(d, k, mode='connectivity', include_self=False)\n",
    "        B = A.toarray().astype(int)\n",
    "        B[B == 0] = n_nodes\n",
    "        g.graph = B\n",
    "        #checking connectivity of the graph\n",
    "        for i in range(n_nodes):\n",
    "            dist = g.dijktra(i)\n",
    "            if np.max(dist) >= n_nodes:\n",
    "                break # the graph is not connected\n",
    "        if i == n_nodes: # the graph is connected\n",
    "            return k, A\n",
    "        else:\n",
    "            k += 1\n",
    "        if k== n_nodes:\n",
    "            return None"
   ]
  },
  {
   "cell_type": "code",
   "execution_count": null,
   "metadata": {},
   "outputs": [],
   "source": [
    "def create_METISgraph_file(d):\n",
    "        z_dir = ./z_ass/\n",
    "        \n",
    "        print(\"creating a graph file for METIS...\")\n",
    "        \n",
    "        if not os.path.exists(self.z_dir):\n",
    "            os.makedirs(self.z_dir)\n",
    "        \n",
    "        n_nodes = 100 \n",
    "        num_edges = n_nodes * k / 2\n",
    "        header = str(len(self.clients)) + \" \" + str(int(num_edges)) + \" 011\\n\"\n",
    "        \n",
    "        if self.zipfz != None:\n",
    "            d_fname = \"d_euclidean_\" + self.model_name + \"_B\" +str(self.batch_size) + \"_L\" + str(no_local_epochs) + \"_\"+ self.mode +\"_zipfz\" + str(self.zipfz)\n",
    "        else:    \n",
    "            d_fname = \"d_euclidean_\" + self.model_name + \"_B\" + str(self.batch_size) + \"_L\" + str(no_local_epochs)\n",
    "        \n",
    "        fname = \"g_\" + d_fname\n",
    "\n",
    "        with open(self.z_dir + fname, 'w') as the_file:\n",
    "            the_file.write(header)\n",
    "        \n",
    "        d = (1000 * self.client_distance_matrix()).astype(int)\n",
    "        \n",
    "        for i in range (len(self.clients)):\n",
    "            \n",
    "            i_prime = i + 1\n",
    "            a_line = str(len(self.clients[i].data))\n",
    "            \n",
    "            for j in range (len(self.clients)):\n",
    "                j_prime = j + 1\n",
    "                if j_prime == i_prime:\n",
    "                    continue\n",
    "                a_line = a_line + \" \" + str(j_prime) + \" \" + str(int(d[i][j]))\n",
    "            \n",
    "            a_line = a_line + \"\\n\"\n",
    "            with open(self.z_dir + fname, 'a') as the_file:\n",
    "                the_file.write(a_line)\n",
    "        \n",
    "        the_file.close()\n",
    "        print(\"saved graph in file: \" + self.z_dir + fname)"
   ]
  }
 ],
 "metadata": {
  "kernelspec": {
   "display_name": "Python 3",
   "language": "python",
   "name": "python3"
  },
  "language_info": {
   "codemirror_mode": {
    "name": "ipython",
    "version": 3
   },
   "file_extension": ".py",
   "mimetype": "text/x-python",
   "name": "python",
   "nbconvert_exporter": "python",
   "pygments_lexer": "ipython3",
   "version": "3.7.4"
  }
 },
 "nbformat": 4,
 "nbformat_minor": 2
}
