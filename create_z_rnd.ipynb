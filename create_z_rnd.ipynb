{
 "cells": [
  {
   "cell_type": "code",
   "execution_count": 25,
   "metadata": {},
   "outputs": [
    {
     "name": "stdout",
     "output_type": "stream",
     "text": [
      "[25. 33. 30. 33. 34. 32. 37. 24. 27. 25.]\n"
     ]
    }
   ],
   "source": [
    "#produce z_rnd_part7 assignment\n",
    "import random\n",
    "import pandas as pd\n",
    "import matplotlib.pyplot as plt\n",
    "import numpy as np\n",
    "\n",
    "n = 300\n",
    "m = 10\n",
    "\n",
    "z = np.empty(n, dtype=int)\n",
    "tmp = random.sample(set(np.arange(n)), m)\n",
    "for s in range (m):\n",
    "    z[tmp[s]] = s\n",
    "\n",
    "remaining = set(np.arange(n)) - set(tmp)\n",
    "for i in remaining:\n",
    "    s = random.randint(0,m-1)\n",
    "    z[i] = s\n",
    "df = pd.DataFrame(z.tolist())\n",
    "#print(z)\n",
    "df.to_csv(\"./output/cifar10/z_ass/13z_rnd_num_client\" + str(n) + \".part\"+ str(m), header=False, index=False)\n",
    "\n",
    "count = np.zeros(m)\n",
    "for i in range(n):\n",
    "    count[z[i]] += 1\n",
    "print(count)\n",
    "    "
   ]
  },
  {
   "cell_type": "code",
   "execution_count": null,
   "metadata": {},
   "outputs": [],
   "source": []
  },
  {
   "cell_type": "code",
   "execution_count": null,
   "metadata": {},
   "outputs": [],
   "source": []
  },
  {
   "cell_type": "code",
   "execution_count": null,
   "metadata": {},
   "outputs": [],
   "source": []
  }
 ],
 "metadata": {
  "kernelspec": {
   "display_name": "Python 3",
   "language": "python",
   "name": "python3"
  },
  "language_info": {
   "codemirror_mode": {
    "name": "ipython",
    "version": 3
   },
   "file_extension": ".py",
   "mimetype": "text/x-python",
   "name": "python",
   "nbconvert_exporter": "python",
   "pygments_lexer": "ipython3",
   "version": "3.7.4"
  }
 },
 "nbformat": 4,
 "nbformat_minor": 2
}
