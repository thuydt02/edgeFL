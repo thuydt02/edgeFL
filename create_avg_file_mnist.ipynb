{
 "cells": [
  {
   "cell_type": "code",
   "execution_count": 72,
   "metadata": {},
   "outputs": [],
   "source": [
    "import numpy as np\n",
    "import pandas as pd\n",
    "import matplotlib.pyplot as plt\n",
    "path_file = \"./output/mnist/acc/noniid\""
   ]
  },
  {
   "cell_type": "code",
   "execution_count": 73,
   "metadata": {},
   "outputs": [],
   "source": [
    "#L10E2\n",
    "\n",
    "L, E = 20, 5\n",
    "LE = \"L\" + str(L) + \"_E\" + str(E)\n",
    "path_file = path_file + \"/L\" + str(L) + \"E\" + str(E) + \"/\"\n",
    "files = [\n",
    "#L10E2 noniid all done\n",
    "#10    \n",
    "        [\n",
    "        \"eFL_MLP2lr0.01_dc1.0_B10_\" + LE + \"_G5000_1z_rnd_num_client300.part10_partition_noniid90_nclient300.npy.weight.pth.acc.csv\",  \n",
    "        \"eFL_MLP2lr0.01_dc1.0_B10_\" + LE + \"_G5000_2z_rnd_num_client300.part10_partition_noniid90_nclient300.npy.weight.pth.acc.csv\",  \n",
    "        \"eFL_MLP2lr0.01_dc1.0_B10_\" + LE + \"_G5000_3z_rnd_num_client300.part10_partition_noniid90_nclient300.npy.weight.pth.acc.csv\",  \n",
    "        \"eFL_MLP2lr0.01_dc1.0_B10_\" + LE + \"_G5000_4z_rnd_num_client300.part10_partition_noniid90_nclient300.npy.weight.pth.acc.csv\",  \n",
    "        \"eFL_MLP2lr0.01_dc1.0_B10_\" + LE + \"_G5000_5z_rnd_num_client300.part10_partition_noniid90_nclient300.npy.weight.pth.acc.csv\",  \n",
    "        \"eFL_MLP2lr0.01_dc1.0_B10_\" + LE + \"_G5000_6z_rnd_num_client300.part10_partition_noniid90_nclient300.npy.weight.pth.acc.csv\",  \n",
    "        \"eFL_MLP2lr0.01_dc1.0_B10_\" + LE + \"_G5000_7z_rnd_num_client300.part10_partition_noniid90_nclient300.npy.weight.pth.acc.csv\",  \n",
    "        \"eFL_MLP2lr0.01_dc1.0_B10_\" + LE + \"_G5000_8z_rnd_num_client300.part10_partition_noniid90_nclient300.npy.weight.pth.acc.csv\",  \n",
    "        \"eFL_MLP2lr0.01_dc1.0_B10_\" + LE + \"_G5000_9z_rnd_num_client300.part10_partition_noniid90_nclient300.npy.weight.pth.acc.csv\",  \n",
    "        \"eFL_MLP2lr0.01_dc1.0_B10_\" + LE + \"_G5000_10z_rnd_num_client300.part10_partition_noniid90_nclient300.npy.weight.pth.acc.csv\",  \n",
    "        \n",
    "        \"eFL_MLP2lr0.01_dc1.0_B10_\" + LE + \"_G5000_avg10z_rnd_num_client300.part10_partition_noniid90_nclient300.npy.weight.pth.acc.csv\" \n",
    "        \n",
    "           \n",
    "        ],\n",
    "]\n"
   ]
  },
  {
   "cell_type": "code",
   "execution_count": 74,
   "metadata": {},
   "outputs": [
    {
     "name": "stdout",
     "output_type": "stream",
     "text": [
      "eFL_MLP2lr0.01_dc1.0_B10_L20_E5_G5000_1z_rnd_num_client300.part10_partition_noniid90_nclient300.npy.weight.pth.acc.csv\n",
      "#NAN:  0\n",
      "eFL_MLP2lr0.01_dc1.0_B10_L20_E5_G5000_2z_rnd_num_client300.part10_partition_noniid90_nclient300.npy.weight.pth.acc.csv\n",
      "#NAN:  0\n",
      "eFL_MLP2lr0.01_dc1.0_B10_L20_E5_G5000_3z_rnd_num_client300.part10_partition_noniid90_nclient300.npy.weight.pth.acc.csv\n",
      "#NAN:  0\n",
      "eFL_MLP2lr0.01_dc1.0_B10_L20_E5_G5000_4z_rnd_num_client300.part10_partition_noniid90_nclient300.npy.weight.pth.acc.csv\n",
      "#NAN:  0\n",
      "eFL_MLP2lr0.01_dc1.0_B10_L20_E5_G5000_5z_rnd_num_client300.part10_partition_noniid90_nclient300.npy.weight.pth.acc.csv\n",
      "#NAN:  0\n",
      "eFL_MLP2lr0.01_dc1.0_B10_L20_E5_G5000_6z_rnd_num_client300.part10_partition_noniid90_nclient300.npy.weight.pth.acc.csv\n",
      "#NAN:  0\n",
      "eFL_MLP2lr0.01_dc1.0_B10_L20_E5_G5000_7z_rnd_num_client300.part10_partition_noniid90_nclient300.npy.weight.pth.acc.csv\n",
      "#NAN:  0\n",
      "eFL_MLP2lr0.01_dc1.0_B10_L20_E5_G5000_8z_rnd_num_client300.part10_partition_noniid90_nclient300.npy.weight.pth.acc.csv\n",
      "#NAN:  0\n",
      "eFL_MLP2lr0.01_dc1.0_B10_L20_E5_G5000_9z_rnd_num_client300.part10_partition_noniid90_nclient300.npy.weight.pth.acc.csv\n",
      "#NAN:  0\n",
      "eFL_MLP2lr0.01_dc1.0_B10_L20_E5_G5000_10z_rnd_num_client300.part10_partition_noniid90_nclient300.npy.weight.pth.acc.csv\n",
      "#NAN:  0\n",
      "cluster  10 len dfs:  10\n"
     ]
    }
   ],
   "source": [
    "clusters = [10]\n",
    "n_clusters = len(clusters)\n",
    "step = L * E\n",
    "dfs = [[] for _ in range(n_clusters)]\n",
    "\n",
    "for i in range(n_clusters):\n",
    "    ni_files = len(files[i])\n",
    "    for j in range(ni_files - 1):\n",
    "        df = pd.read_csv(path_file + files[i][j])\n",
    "        max_global_round = max(df.global_round)\n",
    "        #print(\"j, max_global_ground \", j, \", \", max_global_round)\n",
    "        if max_global_round < 5000: #3000 for L20E5 iid\n",
    "            train_loss = df[df.global_round == max_global_round].train_loss.values[0]\n",
    "            train_acc = df[df.global_round == max_global_round].train_acc.values[0]\n",
    "            test_loss = df[df.global_round == max_global_round].test_loss.values[0]\n",
    "            test_acc = df[df.global_round == max_global_round].test_acc.values[0]\n",
    "            \n",
    "            for e in range(max_global_round + step, 5000 + step, step): #3000 for L20E5\n",
    "                df = df.append(pd.DataFrame({'global_round': [e], 'train_loss' : [train_loss], 'train_acc': [train_acc], 'test_loss':[test_loss], 'test_acc':[test_acc]}),\n",
    "                                      ignore_index = True)\n",
    "                #print(e, \", \", train_loss, \",\", train_acc, \",\", test_loss, \",\", test_acc )\n",
    "        \n",
    "        count_nan_in_df = df.isnull().sum().sum()\n",
    "        #print(df.shape)\n",
    "        print(files[i][j])\n",
    "        print(\"#NAN: \", count_nan_in_df)\n",
    "        if count_nan_in_df == 0:\n",
    "            dfs[i].append(df)\n",
    "    print(\"cluster \", clusters[i], \"len dfs: \", len(dfs[i]))\n",
    "        \n"
   ]
  },
  {
   "cell_type": "code",
   "execution_count": 75,
   "metadata": {},
   "outputs": [
    {
     "data": {
      "text/plain": [
       "(50, 5)"
      ]
     },
     "execution_count": 75,
     "metadata": {},
     "output_type": "execute_result"
    }
   ],
   "source": [
    "dfs[0][3].shape"
   ]
  },
  {
   "cell_type": "code",
   "execution_count": 76,
   "metadata": {},
   "outputs": [
    {
     "name": "stdout",
     "output_type": "stream",
     "text": [
      "    global_round  train_loss  train_acc  test_loss  test_acc\n",
      "0            100    1.135459  68.522000   1.122172    69.141\n",
      "1            200    0.818624  76.439000   0.806151    76.935\n",
      "2            300    0.689576  79.874333   0.676968    80.493\n",
      "3            400    0.618162  81.654000   0.606336    82.168\n",
      "4            500    0.567206  83.157500   0.558563    83.584\n",
      "5            600    0.537659  83.915000   0.528972    84.441\n",
      "6            700    0.514344  84.524833   0.506765    84.966\n",
      "7            800    0.490719  85.247167   0.485023    85.631\n",
      "8            900    0.473989  85.762167   0.470604    85.947\n",
      "9           1000    0.464566  85.989833   0.462319    86.136\n",
      "10          1100    0.452925  86.444333   0.451552    86.589\n",
      "11          1200    0.442321  86.723000   0.441932    86.866\n",
      "12          1300    0.433939  87.032500   0.434879    87.131\n",
      "13          1400    0.432011  87.155000   0.434154    87.165\n",
      "14          1500    0.423331  87.416000   0.425881    87.402\n",
      "15          1600    0.420759  87.535167   0.424146    87.486\n",
      "16          1700    0.417101  87.655833   0.421057    87.652\n",
      "17          1800    0.411229  87.876167   0.416505    87.711\n",
      "18          1900    0.411646  87.929333   0.417534    87.796\n",
      "19          2000    0.407619  88.049333   0.412795    87.893\n",
      "20          2100    0.406367  88.084000   0.413023    87.900\n",
      "21          2200    0.403608  88.207333   0.410959    88.002\n",
      "22          2300    0.403840  88.315333   0.411079    88.077\n",
      "23          2400    0.401453  88.375500   0.408131    88.111\n",
      "24          2500    0.403103  88.388167   0.411252    88.080\n",
      "25          2600    0.402425  88.445333   0.411475    88.164\n",
      "26          2700    0.400954  88.517000   0.409776    88.224\n",
      "27          2800    0.401183  88.573667   0.411041    88.257\n",
      "28          2900    0.403654  88.519500   0.413464    88.173\n",
      "29          3000    0.402450  88.588667   0.412951    88.273\n",
      "30          3100    0.403408  88.614000   0.414051    88.252\n",
      "31          3200    0.402429  88.674833   0.413506    88.339\n",
      "32          3300    0.403659  88.653333   0.415426    88.266\n",
      "33          3400    0.404893  88.659333   0.416509    88.281\n",
      "34          3500    0.405292  88.672833   0.417584    88.283\n",
      "35          3600    0.404913  88.704333   0.417321    88.302\n",
      "36          3700    0.405170  88.724000   0.417803    88.372\n",
      "37          3800    0.407062  88.701000   0.419924    88.322\n",
      "38          3900    0.408579  88.697333   0.421977    88.328\n",
      "39          4000    0.407996  88.749333   0.420969    88.374\n",
      "40          4100    0.407915  88.757667   0.420561    88.381\n",
      "41          4200    0.410304  88.737000   0.423579    88.380\n",
      "42          4300    0.410454  88.755667   0.423701    88.393\n",
      "43          4400    0.410645  88.771667   0.424210    88.434\n",
      "44          4500    0.412604  88.751000   0.426511    88.368\n",
      "45          4600    0.413051  88.768333   0.426989    88.362\n",
      "46          4700    0.414087  88.777000   0.428329    88.376\n",
      "47          4800    0.414699  88.789667   0.429166    88.384\n",
      "48          4900    0.415411  88.797000   0.429436    88.408\n",
      "49          5000    0.415575  88.781333   0.429788    88.438\n"
     ]
    },
    {
     "name": "stderr",
     "output_type": "stream",
     "text": [
      "/opt/anaconda3/lib/python3.7/site-packages/ipykernel_launcher.py:10: DeprecationWarning: elementwise comparison failed; this will raise an error in the future.\n",
      "  # Remove the CWD from sys.path while we load stuff.\n"
     ]
    }
   ],
   "source": [
    "for i in range(n_clusters):\n",
    "    ni_dfs = len(dfs[i])\n",
    "    ni_files = len(files[i])\n",
    "    \n",
    "    train_loss_list = []\n",
    "    train_acc_list = []\n",
    "    test_loss_list = []\n",
    "    test_acc_list = []\n",
    "    for j in range(ni_dfs):\n",
    "        if train_loss_list == []:\n",
    "            train_loss_list = np.asarray(dfs[i][j].train_loss)\n",
    "            train_acc_list = np.asarray(dfs[i][j].train_acc)\n",
    "            test_loss_list = np.asarray(dfs[i][j].test_loss)\n",
    "            test_acc_list = np.asarray(dfs[i][j].test_acc)\n",
    "        else:\n",
    "            train_loss_list = np.add(train_loss_list, np.asarray(dfs[i][j].train_loss))\n",
    "            train_acc_list = np.add(train_acc_list, np.asarray(dfs[i][j].train_acc))\n",
    "            test_loss_list = np.add(test_loss_list, np.asarray(dfs[i][j].test_loss))\n",
    "            test_acc_list = np.add(test_acc_list, np.asarray(dfs[i][j].test_acc))\n",
    "            \n",
    "    train_loss_list = np.asarray(train_loss_list) /(ni_dfs)\n",
    "    train_acc_list = np.asarray(train_acc_list) /(ni_dfs)\n",
    "    test_loss_list = np.asarray(test_loss_list) /(ni_dfs)\n",
    "    test_acc_list = np.asarray(test_acc_list) /(ni_dfs)\n",
    "    \n",
    "    df = pd.DataFrame(columns = ['global_round', 'train_loss', 'train_acc', 'test_loss', 'test_acc'])\n",
    "    df.global_round = dfs[i][0].global_round\n",
    "    df.train_loss = train_loss_list\n",
    "    df.train_acc = train_acc_list\n",
    "    df.test_loss = test_loss_list\n",
    "    df.test_acc = test_acc_list\n",
    "    \n",
    "    print(df)\n",
    "    df.to_csv(path_file + files[i][ni_files - 1])\n",
    "    \n",
    "    \n",
    "        \n",
    "    \n",
    "    "
   ]
  },
  {
   "cell_type": "code",
   "execution_count": null,
   "metadata": {},
   "outputs": [],
   "source": []
  },
  {
   "cell_type": "code",
   "execution_count": null,
   "metadata": {},
   "outputs": [],
   "source": []
  }
 ],
 "metadata": {
  "kernelspec": {
   "display_name": "Python 3",
   "language": "python",
   "name": "python3"
  },
  "language_info": {
   "codemirror_mode": {
    "name": "ipython",
    "version": 3
   },
   "file_extension": ".py",
   "mimetype": "text/x-python",
   "name": "python",
   "nbconvert_exporter": "python",
   "pygments_lexer": "ipython3",
   "version": "3.7.4"
  }
 },
 "nbformat": 4,
 "nbformat_minor": 2
}
